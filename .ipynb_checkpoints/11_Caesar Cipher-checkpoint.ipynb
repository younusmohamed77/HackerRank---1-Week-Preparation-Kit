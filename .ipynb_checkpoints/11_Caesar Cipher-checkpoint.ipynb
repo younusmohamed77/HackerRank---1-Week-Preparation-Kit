{
 "cells": [
  {
   "cell_type": "markdown",
   "id": "ad44dfee",
   "metadata": {},
   "source": [
    "Julius Caesar protected his confidential information by encrypting it using a cipher. Caesar's cipher shifts each letter by a number of letters. If the shift takes you past the end of the alphabet, just rotate back to the front of the alphabet. In the case of a rotation by 3, w, x, y and z would map to z, a, b and c.\n",
    "\n",
    "https://www.hackerrank.com/challenges/one-week-preparation-kit-caesar-cipher-1/problem?isFullScreen=true&h_l=interview&playlist_slugs%5B%5D=preparation-kits&playlist_slugs%5B%5D=one-week-preparation-kit&playlist_slugs%5B%5D=one-week-day-three"
   ]
  },
  {
   "cell_type": "code",
   "execution_count": 1,
   "id": "c7b3821c",
   "metadata": {},
   "outputs": [
    {
     "ename": "KeyError",
     "evalue": "'OUTPUT_PATH'",
     "output_type": "error",
     "traceback": [
      "\u001b[1;31m---------------------------------------------------------------------------\u001b[0m",
      "\u001b[1;31mKeyError\u001b[0m                                  Traceback (most recent call last)",
      "Cell \u001b[1;32mIn[1], line 23\u001b[0m\n\u001b[0;32m     20\u001b[0m     \u001b[38;5;28;01mpass\u001b[39;00m\n\u001b[0;32m     22\u001b[0m \u001b[38;5;28;01mif\u001b[39;00m \u001b[38;5;18m__name__\u001b[39m \u001b[38;5;241m==\u001b[39m \u001b[38;5;124m'\u001b[39m\u001b[38;5;124m__main__\u001b[39m\u001b[38;5;124m'\u001b[39m:\n\u001b[1;32m---> 23\u001b[0m     fptr \u001b[38;5;241m=\u001b[39m \u001b[38;5;28mopen\u001b[39m(os\u001b[38;5;241m.\u001b[39menviron[\u001b[38;5;124m'\u001b[39m\u001b[38;5;124mOUTPUT_PATH\u001b[39m\u001b[38;5;124m'\u001b[39m], \u001b[38;5;124m'\u001b[39m\u001b[38;5;124mw\u001b[39m\u001b[38;5;124m'\u001b[39m)\n\u001b[0;32m     25\u001b[0m     n \u001b[38;5;241m=\u001b[39m \u001b[38;5;28mint\u001b[39m(\u001b[38;5;28minput\u001b[39m()\u001b[38;5;241m.\u001b[39mstrip())\n\u001b[0;32m     27\u001b[0m     s \u001b[38;5;241m=\u001b[39m \u001b[38;5;28minput\u001b[39m()\n",
      "File \u001b[1;32m<frozen os>:679\u001b[0m, in \u001b[0;36m__getitem__\u001b[1;34m(self, key)\u001b[0m\n",
      "\u001b[1;31mKeyError\u001b[0m: 'OUTPUT_PATH'"
     ]
    }
   ],
   "source": [
    "#!/bin/python3\n",
    "\n",
    "import math\n",
    "import os\n",
    "import random\n",
    "import re\n",
    "import sys\n",
    "\n",
    "#\n",
    "# Complete the 'caesarCipher' function below.\n",
    "#\n",
    "# The function is expected to return a STRING.\n",
    "# The function accepts following parameters:\n",
    "#  1. STRING s\n",
    "#  2. INTEGER k\n",
    "#\n",
    "\n",
    "def caesarCipher(s, k):\n",
    "    # Write your code here\n",
    "    pass\n",
    "\n",
    "if __name__ == '__main__':\n",
    "    fptr = open(os.environ['OUTPUT_PATH'], 'w')\n",
    "\n",
    "    n = int(input().strip())\n",
    "\n",
    "    s = input()\n",
    "\n",
    "    k = int(input().strip())\n",
    "\n",
    "    result = caesarCipher(s, k)\n",
    "\n",
    "    fptr.write(result + '\\n')\n",
    "\n",
    "    fptr.close()\n"
   ]
  },
  {
   "cell_type": "code",
   "execution_count": 12,
   "id": "eab79cf5",
   "metadata": {},
   "outputs": [
    {
     "name": "stdout",
     "output_type": "stream",
     "text": [
      "100\n",
      "DNFjxo?b5h*5<LWbgs6?V5{3M].1hG)pv1VWq4(!][DZ3G)riSJ.CmUj9]7Gzl?VyeJ2dIPEW4GYW*scT8(vhu9wCr]q!7eyaoy.\n",
      "45\n",
      "None\n"
     ]
    }
   ],
   "source": [
    "#!/bin/python3\n",
    "\n",
    "import math\n",
    "import os\n",
    "import random\n",
    "import re\n",
    "import sys\n",
    "\n",
    "#\n",
    "# Complete the 'caesarCipher' function below.\n",
    "#\n",
    "# The function is expected to return a STRING.\n",
    "# The function accepts following parameters:\n",
    "#  1. STRING s\n",
    "#  2. INTEGER k\n",
    "#\n",
    "\n",
    "def caesarCipher(s, k):\n",
    "    # Write your code here\n",
    "    pass\n",
    "\n",
    "if __name__ == '__main__':\n",
    "    n = int(input().strip())\n",
    "    s = input()\n",
    "    k = int(input().strip())\n",
    "    result = caesarCipher(s, k)\n",
    "    print(result)"
   ]
  },
  {
   "cell_type": "code",
   "execution_count": 3,
   "id": "ecb6c4f6",
   "metadata": {},
   "outputs": [
    {
     "data": {
      "text/plain": [
       "122"
      ]
     },
     "execution_count": 3,
     "metadata": {},
     "output_type": "execute_result"
    }
   ],
   "source": [
    "ord('z')"
   ]
  },
  {
   "cell_type": "code",
   "execution_count": 4,
   "id": "acdbc4da",
   "metadata": {},
   "outputs": [
    {
     "data": {
      "text/plain": [
       "90"
      ]
     },
     "execution_count": 4,
     "metadata": {},
     "output_type": "execute_result"
    }
   ],
   "source": [
    "ord('Z')"
   ]
  },
  {
   "cell_type": "code",
   "execution_count": 8,
   "id": "4948c4d9",
   "metadata": {},
   "outputs": [
    {
     "data": {
      "text/plain": [
       "'a'"
      ]
     },
     "execution_count": 8,
     "metadata": {},
     "output_type": "execute_result"
    }
   ],
   "source": [
    "chr(122-25)"
   ]
  },
  {
   "cell_type": "code",
   "execution_count": 9,
   "id": "f1732cfc",
   "metadata": {},
   "outputs": [
    {
     "data": {
      "text/plain": [
       "97"
      ]
     },
     "execution_count": 9,
     "metadata": {},
     "output_type": "execute_result"
    }
   ],
   "source": [
    "ord('a')"
   ]
  },
  {
   "cell_type": "code",
   "execution_count": 20,
   "id": "bacc2da1",
   "metadata": {},
   "outputs": [
    {
     "data": {
      "text/plain": [
       "71"
      ]
     },
     "execution_count": 20,
     "metadata": {},
     "output_type": "execute_result"
    }
   ],
   "source": [
    "ord('G')"
   ]
  },
  {
   "cell_type": "code",
   "execution_count": 13,
   "id": "40e10db6",
   "metadata": {},
   "outputs": [
    {
     "data": {
      "text/plain": [
       "'WaY}\\x8b\\x82?u5{*5<_juz\\x866?i5{3`].1{Z)\\x83\\x891ij\\x844(!][Wm3Z)\\x85|f].V\\x80h}9]7Z\\x8d\\x7f?i\\x8cx]2w\\\\cXj4Zlj*\\x86vg8(\\x89{\\x889\\x8aV\\x85]\\x84!7x\\x8ct\\x82\\x8c.'"
      ]
     },
     "execution_count": 13,
     "metadata": {},
     "output_type": "execute_result"
    }
   ],
   "source": [
    "out_string = ''\n",
    "\n",
    "for char in s:\n",
    "    \n",
    "    if char.isalpha():\n",
    "        new_char = chr(ord(char) + k)\n",
    "    \n",
    "        if ord(new_char) > 122:\n",
    "            new_char = chr(ord(new_char) - 26)\n",
    "        \n",
    "        elif ord(new_char) > 90 and ord(char) < 90:\n",
    "            new_char = chr(ord(new_char) - 26)\n",
    "            \n",
    "    else:\n",
    "        new_char = char\n",
    "        \n",
    "    out_string += new_char\n",
    "    \n",
    "out_string"
   ]
  },
  {
   "cell_type": "code",
   "execution_count": 25,
   "id": "5efe341b",
   "metadata": {},
   "outputs": [
    {
     "data": {
      "text/plain": [
       "'WGYcqh?u5a*5<EPuzl6?O5{3F].1aZ)io1OPj4(!][Wm3Z)kbLC.VfNc9]7Zse?OrxC2wBIXP4ZRP*lvM8(oan9pVk]j!7xrthr.'"
      ]
     },
     "execution_count": 25,
     "metadata": {},
     "output_type": "execute_result"
    }
   ],
   "source": [
    "out_string = ''\n",
    "if k > 26:\n",
    "    k = k - 26\n",
    "    \n",
    "for char in s:\n",
    "    \n",
    "    if char.isalpha():\n",
    "        new_char = chr(ord(char) + k)\n",
    "    \n",
    "        if ord(new_char) > 122:\n",
    "            new_char = chr(ord(new_char) - 26)\n",
    "        \n",
    "        elif ord(new_char) > 90 and ord(char) < 90:\n",
    "            new_char = chr(ord(new_char) - 26)\n",
    "            \n",
    "    else:\n",
    "        new_char = char\n",
    "        \n",
    "    out_string += new_char\n",
    "    \n",
    "out_string"
   ]
  },
  {
   "cell_type": "code",
   "execution_count": 24,
   "id": "b1f9a72a",
   "metadata": {},
   "outputs": [
    {
     "data": {
      "text/plain": [
       "'a'"
      ]
     },
     "execution_count": 24,
     "metadata": {},
     "output_type": "execute_result"
    }
   ],
   "source": [
    "chr(78 + 45 - 26)"
   ]
  },
  {
   "cell_type": "code",
   "execution_count": 23,
   "id": "57add54d",
   "metadata": {},
   "outputs": [
    {
     "data": {
      "text/plain": [
       "78"
      ]
     },
     "execution_count": 23,
     "metadata": {},
     "output_type": "execute_result"
    }
   ],
   "source": [
    "ord('N')"
   ]
  },
  {
   "cell_type": "code",
   "execution_count": 26,
   "id": "409b1781",
   "metadata": {},
   "outputs": [],
   "source": [
    "if ('WGYcqh?u5a*5<EPuzl6?O5{3F].1aZ)io1OPj4(!][Wm3Z)kbLC.VfNc9]7Zse?OrxC2wBIXP4ZRP*lvM8(oan9pVk]j!7xrthr.' == 'WGYcqh?u5a*5<EPuzl6?O5{3F].1aZ)io1OPj4(!][WS3Z)kbLC.VfNc9]7Zse?OrxC2wBIXP4ZRP*lvM8(oan9pVk]j!7xrthr.'):\n",
    "    print(True)"
   ]
  },
  {
   "cell_type": "code",
   "execution_count": 27,
   "id": "2099c57c",
   "metadata": {},
   "outputs": [
    {
     "ename": "SyntaxError",
     "evalue": "invalid decimal literal (524023213.py, line 1)",
     "output_type": "error",
     "traceback": [
      "\u001b[1;36m  Cell \u001b[1;32mIn[27], line 1\u001b[1;36m\u001b[0m\n\u001b[1;33m    WGYcqh?u5a*5<EPuzl6?O5{3F].1aZ)io1OPj4(!][WS3Z)kbLC.VfNc9]7Zse?OrxC2wBIXP4ZRP*lvM8(oan9pVk]j!7xrthr.\u001b[0m\n\u001b[1;37m                           ^\u001b[0m\n\u001b[1;31mSyntaxError\u001b[0m\u001b[1;31m:\u001b[0m invalid decimal literal\n"
     ]
    }
   ],
   "source": [
    "WGYcqh?u5a*5<EPuzl6?O5{3F].1aZ)io1OPj4(!][WS3Z)kbLC.VfNc9]7Zse?OrxC2wBIXP4ZRP*lvM8(oan9pVk]j!7xrthr.\n",
    "WGYcqh?u5a*5<EPuzl6?O5{3F].1aZ)io1OPj4(!][Wm3Z)kbLC.VfNc9]7Zse?OrxC2wBIXP4ZRP*lvM8(oan9pVk]j!7xrthr.\n",
    "                                                                                "
   ]
  },
  {
   "cell_type": "code",
   "execution_count": 28,
   "id": "034d401f",
   "metadata": {},
   "outputs": [
    {
     "data": {
      "text/plain": [
       "'WGYcqh?u5a*5<EPuzl6?O5{3F].1aZ)io1OPj4(!][WS3Z)kbLC.VfNc9]7Zse?OrxC2wBIXP4ZRP*lvM8(oan9pVk]j!7xrthr.'"
      ]
     },
     "execution_count": 28,
     "metadata": {},
     "output_type": "execute_result"
    }
   ],
   "source": [
    "out_string = ''\n",
    "if k > 26:\n",
    "    k = k - 26\n",
    "    \n",
    "for char in s:\n",
    "    \n",
    "    if char.isalpha():\n",
    "        new_char = chr(ord(char) + k)\n",
    "    \n",
    "        if ord(new_char) > 122:\n",
    "            new_char = chr(ord(new_char) - 26)\n",
    "        \n",
    "        elif ord(new_char) > 90 and char.isupper():\n",
    "            new_char = chr(ord(new_char) - 26)\n",
    "            \n",
    "    else:\n",
    "        new_char = char\n",
    "        \n",
    "    out_string += new_char\n",
    "    \n",
    "out_string"
   ]
  },
  {
   "cell_type": "code",
   "execution_count": 29,
   "id": "0690ea53",
   "metadata": {},
   "outputs": [
    {
     "name": "stdout",
     "output_type": "stream",
     "text": [
      "90\n",
      "!m-rB`-oN!.W`cLAcVbN/CqSoolII!SImji.!w/`Xu`uZa1TWPRq`uRBtok`xPT`lL-zPTc.BSRIhu..-!.!tcl!-U\n",
      "62\n",
      "None\n"
     ]
    }
   ],
   "source": [
    "if __name__ == '__main__':\n",
    "    n = int(input().strip())\n",
    "    s = input()\n",
    "    k = int(input().strip())\n",
    "    result = caesarCipher(s, k)\n",
    "    print(result)"
   ]
  },
  {
   "cell_type": "code",
   "execution_count": 30,
   "id": "776eb174",
   "metadata": {},
   "outputs": [
    {
     "data": {
      "text/plain": [
       "'!w-bL`-yX!.G`mVKmFlX/MaCyyvSS!CSwts.!g/`He`eJk1DGZBa`eBLdyu`hZD`vV-jZDm.LCBSre..-!.!dmv!-E'"
      ]
     },
     "execution_count": 30,
     "metadata": {},
     "output_type": "execute_result"
    }
   ],
   "source": [
    "out_string = ''\n",
    "if k > 26:\n",
    "    k = k % 26\n",
    "    \n",
    "for char in s:\n",
    "    \n",
    "    if char.isalpha():\n",
    "        new_char = chr(ord(char) + k)\n",
    "    \n",
    "        if ord(new_char) > 122:\n",
    "            new_char = chr(ord(new_char) - 26)\n",
    "        \n",
    "        elif ord(new_char) > 90 and char.isupper():\n",
    "            new_char = chr(ord(new_char) - 26)\n",
    "            \n",
    "    else:\n",
    "        new_char = char\n",
    "        \n",
    "    out_string += new_char\n",
    "    \n",
    "out_string"
   ]
  },
  {
   "cell_type": "code",
   "execution_count": null,
   "id": "8f317232",
   "metadata": {},
   "outputs": [],
   "source": []
  }
 ],
 "metadata": {
  "kernelspec": {
   "display_name": "Python 3 (ipykernel)",
   "language": "python",
   "name": "python3"
  },
  "language_info": {
   "codemirror_mode": {
    "name": "ipython",
    "version": 3
   },
   "file_extension": ".py",
   "mimetype": "text/x-python",
   "name": "python",
   "nbconvert_exporter": "python",
   "pygments_lexer": "ipython3",
   "version": "3.11.5"
  }
 },
 "nbformat": 4,
 "nbformat_minor": 5
}
