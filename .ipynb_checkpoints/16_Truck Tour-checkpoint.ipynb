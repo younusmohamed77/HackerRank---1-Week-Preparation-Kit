{
 "cells": [
  {
   "cell_type": "markdown",
   "id": "2573b8e4",
   "metadata": {},
   "source": [
    "https://www.hackerrank.com/test/3em71ltlfrk/questions/6sqmn1811gk"
   ]
  },
  {
   "cell_type": "code",
   "execution_count": 1,
   "id": "b9aefd15",
   "metadata": {},
   "outputs": [
    {
     "ename": "IndentationError",
     "evalue": "expected an indented block after function definition on line 18 (2434109991.py, line 21)",
     "output_type": "error",
     "traceback": [
      "\u001b[1;36m  Cell \u001b[1;32mIn[1], line 21\u001b[1;36m\u001b[0m\n\u001b[1;33m    if __name__ == '__main__':\u001b[0m\n\u001b[1;37m    ^\u001b[0m\n\u001b[1;31mIndentationError\u001b[0m\u001b[1;31m:\u001b[0m expected an indented block after function definition on line 18\n"
     ]
    }
   ],
   "source": [
    "#!/bin/python3\n",
    "\n",
    "import math\n",
    "import os\n",
    "import random\n",
    "import re\n",
    "import sys\n",
    "\n",
    "\n",
    "\n",
    "#\n",
    "# Complete the 'truckTour' function below.\n",
    "#\n",
    "# The function is expected to return an INTEGER.\n",
    "# The function accepts 2D_INTEGER_ARRAY petrolpumps as parameter.\n",
    "#\n",
    "\n",
    "def truckTour(petrolpumps):\n",
    "    # Write your code here\n",
    "\n",
    "if __name__ == '__main__':\n",
    "    fptr = open(os.environ['OUTPUT_PATH'], 'w')\n",
    "\n",
    "    n = int(input().strip())\n",
    "\n",
    "    petrolpumps = []\n",
    "\n",
    "    for _ in range(n):\n",
    "        petrolpumps.append(list(map(int, input().rstrip().split())))\n",
    "\n",
    "    result = truckTour(petrolpumps)\n",
    "\n",
    "    fptr.write(str(result) + '\\n')\n",
    "\n",
    "    fptr.close()"
   ]
  },
  {
   "cell_type": "code",
   "execution_count": 2,
   "id": "7c97ba2e",
   "metadata": {},
   "outputs": [
    {
     "name": "stdout",
     "output_type": "stream",
     "text": [
      "3\n",
      "1 5\n",
      "10 3\n",
      "3 4\n",
      "None\n"
     ]
    }
   ],
   "source": [
    "#!/bin/python3\n",
    "\n",
    "import math\n",
    "import os\n",
    "import random\n",
    "import re\n",
    "import sys\n",
    "\n",
    "\n",
    "\n",
    "#\n",
    "# Complete the 'truckTour' function below.\n",
    "#\n",
    "# The function is expected to return an INTEGER.\n",
    "# The function accepts 2D_INTEGER_ARRAY petrolpumps as parameter.\n",
    "#\n",
    "\n",
    "def truckTour(petrolpumps):\n",
    "    # Write your code here\n",
    "    pass\n",
    "\n",
    "if __name__ == '__main__':\n",
    "    n = int(input().strip())\n",
    "    petrolpumps = []\n",
    "    for _ in range(n):\n",
    "        petrolpumps.append(list(map(int, input().rstrip().split())))\n",
    "    result = truckTour(petrolpumps)\n",
    "    print(result)"
   ]
  },
  {
   "cell_type": "code",
   "execution_count": 6,
   "id": "be292c03",
   "metadata": {},
   "outputs": [
    {
     "data": {
      "text/plain": [
       "[[1, 5], [10, 3], [3, 4]]"
      ]
     },
     "execution_count": 6,
     "metadata": {},
     "output_type": "execute_result"
    }
   ],
   "source": [
    "petrolpumps"
   ]
  },
  {
   "cell_type": "code",
   "execution_count": null,
   "id": "3b751fd9",
   "metadata": {},
   "outputs": [],
   "source": [
    "distance_covered = 0\n",
    "start_pos = 0\n",
    "\n",
    "for i in range(len(petrolpumps)):\n",
    "    if i != len(petrolpumps):\n",
    "        temp_distance_covered = petrolpumps[i][0] - petrolpumps[i][1]\n",
    "        if temp_distance_covered >= distance_covered:\n",
    "            start_pos = i\n",
    "            \n",
    "    else:\n",
    "        "
   ]
  },
  {
   "cell_type": "code",
   "execution_count": 4,
   "id": "9450d221",
   "metadata": {},
   "outputs": [],
   "source": [
    "start_pos = 0\n",
    "\n",
    "for i in range(len(petrolpumps)):\n",
    "    if petrolpumps[i][0] < petrolpumps[i][1]:\n",
    "        start_pos = i + 1\n",
    "\n",
    "start_pos = start_pos % len(petrolpumps)\n",
    "       "
   ]
  },
  {
   "cell_type": "code",
   "execution_count": 9,
   "id": "758771d1",
   "metadata": {},
   "outputs": [
    {
     "ename": "SyntaxError",
     "evalue": "'return' outside function (1100088124.py, line 8)",
     "output_type": "error",
     "traceback": [
      "\u001b[1;36m  Cell \u001b[1;32mIn[9], line 8\u001b[1;36m\u001b[0m\n\u001b[1;33m    return best_start\u001b[0m\n\u001b[1;37m    ^\u001b[0m\n\u001b[1;31mSyntaxError\u001b[0m\u001b[1;31m:\u001b[0m 'return' outside function\n"
     ]
    }
   ],
   "source": [
    "possible_starts = {}\n",
    "\n",
    "for i in range(len(petrolpumps)):\n",
    "    if petrolpumps[i][0] > petrolpumps[i][1]:\n",
    "        possible_starts[i] = petrolpumps[i][0] - petrolpumps[i][1]\n",
    "        \n",
    "best_start = max(possible_starts, key = possible_starts.get)\n",
    "return best_start"
   ]
  },
  {
   "cell_type": "code",
   "execution_count": 36,
   "id": "b1d0b735",
   "metadata": {},
   "outputs": [],
   "source": [
    "def rotate(petrol_pumps):\n",
    "    petrol_pumps.append(petrol_pumps[0])\n",
    "    petrol_pumps.remove(petrol_pumps[0])\n",
    "    return petrol_pumps\n",
    "    \n",
    "def truckTour(petrolpumps):\n",
    "    start_tank = 0\n",
    "    start_pos = 0\n",
    "    distance_to_reach = 0\n",
    "\n",
    "    for i in range((len(petrolpumps))):\n",
    "        start_tank = start_tank + petrolpumps[i][0]\n",
    "        distance_to_reach = distance_to_reach + petrolpumps[i][1]\n",
    "        print(start_tank, distance_to_reach)\n",
    "        if start_tank < distance_to_reach:\n",
    "            petrolpumps = rotate(petrolpumps)\n",
    "            start_pos += 1\n",
    "            distance_to_reach = 0\n",
    "            i = 0\n",
    "        \n",
    "    return start_pos"
   ]
  },
  {
   "cell_type": "code",
   "execution_count": 30,
   "id": "34bc1329",
   "metadata": {},
   "outputs": [],
   "source": [
    "l = [1,2,3,4]\n",
    "l.append(l[0])\n",
    "l.remove(l[0])"
   ]
  },
  {
   "cell_type": "code",
   "execution_count": 31,
   "id": "594a8b57",
   "metadata": {},
   "outputs": [
    {
     "data": {
      "text/plain": [
       "[2, 3, 4, 1]"
      ]
     },
     "execution_count": 31,
     "metadata": {},
     "output_type": "execute_result"
    }
   ],
   "source": [
    "l"
   ]
  },
  {
   "cell_type": "code",
   "execution_count": 32,
   "id": "6a62f6d6",
   "metadata": {},
   "outputs": [
    {
     "data": {
      "text/plain": [
       "[1, 2, 3, 4, 4, 1]"
      ]
     },
     "execution_count": 32,
     "metadata": {},
     "output_type": "execute_result"
    }
   ],
   "source": [
    "l = [1, 1, 2, 3, 4, 4]\n",
    "l.append(l[0])\n",
    "l.remove(l[0])\n",
    "l"
   ]
  },
  {
   "cell_type": "code",
   "execution_count": 28,
   "id": "18e98569",
   "metadata": {},
   "outputs": [
    {
     "name": "stdout",
     "output_type": "stream",
     "text": [
      "3\n",
      "1 5\n",
      "10 3\n",
      "3 4\n",
      "0\n"
     ]
    }
   ],
   "source": [
    "if __name__ == '__main__':\n",
    "    n = int(input().strip())\n",
    "    petrolpumps = []\n",
    "    for _ in range(n):\n",
    "        petrolpumps.append(list(map(int, input().rstrip().split())))\n",
    "    result = truckTour(petrolpumps)\n",
    "    print(result)"
   ]
  },
  {
   "cell_type": "code",
   "execution_count": 37,
   "id": "c6a79464",
   "metadata": {},
   "outputs": [
    {
     "name": "stdout",
     "output_type": "stream",
     "text": [
      "1 5\n",
      "4 4\n",
      "5 9\n",
      "2\n"
     ]
    }
   ],
   "source": [
    "result = truckTour(petrolpumps)\n",
    "print(result)"
   ]
  },
  {
   "cell_type": "code",
   "execution_count": 44,
   "id": "a0067889",
   "metadata": {},
   "outputs": [],
   "source": [
    "def rotate(petrolpumps):\n",
    "    petrolpumps.append(petrolpumps[0])\n",
    "    petrolpumps.remove(petrolpumps[0])\n",
    "    return petrolpumps\n",
    "    \n",
    "def truckTour(petrolpumps):\n",
    "    start_tank = 0\n",
    "    start_pos = 0\n",
    "    distance_to_reach = 0\n",
    "\n",
    "    for i in range((len(petrolpumps))):\n",
    "        start_tank = start_tank + petrolpumps[i][0]\n",
    "        distance_to_reach = distance_to_reach + petrolpumps[i][1]\n",
    "        print(start_tank, distance_to_reach)\n",
    "        if start_tank < distance_to_reach:\n",
    "            petrolpumps = rotate(petrolpumps)\n",
    "            print(petrolpumps)\n",
    "            start_pos += 1\n",
    "            distance_to_reach = 0\n",
    "            start_tank = 0\n",
    "            i = 0\n",
    "        \n",
    "    return start_pos"
   ]
  },
  {
   "cell_type": "code",
   "execution_count": 45,
   "id": "7da9fce8",
   "metadata": {},
   "outputs": [
    {
     "name": "stdout",
     "output_type": "stream",
     "text": [
      "3 4\n",
      "[[1, 5], [10, 3], [3, 4]]\n",
      "10 3\n",
      "13 7\n",
      "1\n"
     ]
    }
   ],
   "source": [
    "result = truckTour(petrolpumps)\n",
    "print(result)"
   ]
  },
  {
   "cell_type": "code",
   "execution_count": 46,
   "id": "4bc2b8bf",
   "metadata": {},
   "outputs": [
    {
     "name": "stdout",
     "output_type": "stream",
     "text": [
      "3\n",
      "1 5\n",
      "10 3\n",
      "3 4\n",
      "1 5\n",
      "[[10, 3], [3, 4], [1, 5]]\n",
      "3 4\n",
      "[[3, 4], [1, 5], [10, 3]]\n",
      "10 3\n",
      "2\n"
     ]
    }
   ],
   "source": [
    "if __name__ == '__main__':\n",
    "    n = int(input().strip())\n",
    "    petrolpumps = []\n",
    "    for _ in range(n):\n",
    "        petrolpumps.append(list(map(int, input().rstrip().split())))\n",
    "    result = truckTour(petrolpumps)\n",
    "    print(result)"
   ]
  },
  {
   "cell_type": "code",
   "execution_count": 52,
   "id": "ce2ffc32",
   "metadata": {},
   "outputs": [],
   "source": [
    "def rotate(petrolpumps):\n",
    "    petrolpumps.append(petrolpumps[0])\n",
    "    petrolpumps.remove(petrolpumps[0])\n",
    "    return petrolpumps\n",
    "    \n",
    "def truckTour(petrolpumps):\n",
    "    start_tank = 0\n",
    "    start_pos = 0\n",
    "    distance_to_reach = 0\n",
    "    i = 0\n",
    "\n",
    "    while i < (len(petrolpumps)):\n",
    "        start_tank = start_tank + petrolpumps[i][0]\n",
    "        distance_to_reach = distance_to_reach + petrolpumps[i][1]\n",
    "        print(start_tank, distance_to_reach)\n",
    "        i += 1\n",
    "        if start_tank < distance_to_reach:\n",
    "            petrolpumps = rotate(petrolpumps)\n",
    "            print(petrolpumps)\n",
    "            start_pos += 1\n",
    "            distance_to_reach = 0\n",
    "            start_tank = 0\n",
    "            i = 0\n",
    "        \n",
    "    return start_pos"
   ]
  },
  {
   "cell_type": "code",
   "execution_count": 53,
   "id": "9db1cbc8",
   "metadata": {},
   "outputs": [
    {
     "name": "stdout",
     "output_type": "stream",
     "text": [
      "3\n",
      "1 5\n",
      "10 3\n",
      "3 4\n",
      "1 5\n",
      "[[10, 3], [3, 4], [1, 5]]\n",
      "10 3\n",
      "13 7\n",
      "14 12\n",
      "1\n"
     ]
    }
   ],
   "source": [
    "if __name__ == '__main__':\n",
    "    n = int(input().strip())\n",
    "    petrolpumps = []\n",
    "    for _ in range(n):\n",
    "        petrolpumps.append(list(map(int, input().rstrip().split())))\n",
    "    result = truckTour(petrolpumps)\n",
    "    print(result)"
   ]
  },
  {
   "cell_type": "code",
   "execution_count": null,
   "id": "29dee786",
   "metadata": {},
   "outputs": [],
   "source": [
    "def rotate(petrolpumps):\n",
    "    petrolpumps.append(petrolpumps[0])\n",
    "    petrolpumps.remove(petrolpumps[0])\n",
    "    return petrolpumps\n",
    "    \n",
    "def truckTour(petrolpumps):\n",
    "    start_tank = 0\n",
    "    start_pos = 0\n",
    "    distance_to_reach = 0\n",
    "    i = 0\n",
    "\n",
    "    while i < (len(petrolpumps)):\n",
    "        start_tank = start_tank + petrolpumps[i][0]\n",
    "        distance_to_reach = distance_to_reach + petrolpumps[i][1]\n",
    "        # print(start_tank, distance_to_reach)\n",
    "        i += 1\n",
    "        if start_tank < distance_to_reach:\n",
    "            petrolpumps = rotate(petrolpumps)\n",
    "            # print(petrolpumps)\n",
    "            start_pos += 1\n",
    "            distance_to_reach = 0\n",
    "            start_tank = 0\n",
    "            i = 0\n",
    "        \n",
    "    return start_pos"
   ]
  }
 ],
 "metadata": {
  "kernelspec": {
   "display_name": "Python 3 (ipykernel)",
   "language": "python",
   "name": "python3"
  },
  "language_info": {
   "codemirror_mode": {
    "name": "ipython",
    "version": 3
   },
   "file_extension": ".py",
   "mimetype": "text/x-python",
   "name": "python",
   "nbconvert_exporter": "python",
   "pygments_lexer": "ipython3",
   "version": "3.11.5"
  }
 },
 "nbformat": 4,
 "nbformat_minor": 5
}
