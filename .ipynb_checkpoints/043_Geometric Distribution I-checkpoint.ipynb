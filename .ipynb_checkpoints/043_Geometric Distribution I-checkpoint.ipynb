{
 "cells": [
  {
   "cell_type": "markdown",
   "id": "1410c67c",
   "metadata": {},
   "source": [
    "The probability that a machine produces a defective product is 1/3. What is the probability that the 1st defect occurs the 5th item produced?"
   ]
  },
  {
   "cell_type": "code",
   "execution_count": 1,
   "id": "0182aef6",
   "metadata": {},
   "outputs": [
    {
     "name": "stdout",
     "output_type": "stream",
     "text": [
      "0.066\n"
     ]
    }
   ],
   "source": [
    "# Given probabilities\n",
    "p = 1 / 3\n",
    "k = 5\n",
    "\n",
    "# Calculate the probability that the 1st defect occurs on the 5th item\n",
    "prob_first_defect_on_5th = ((1 - p) ** (k - 1)) * p\n",
    "\n",
    "# Print the result rounded to 3 decimal places\n",
    "print(f\"{prob_first_defect_on_5th:.3f}\")\n"
   ]
  },
  {
   "cell_type": "code",
   "execution_count": null,
   "id": "b0161d7c",
   "metadata": {},
   "outputs": [],
   "source": []
  }
 ],
 "metadata": {
  "kernelspec": {
   "display_name": "Python 3 (ipykernel)",
   "language": "python",
   "name": "python3"
  },
  "language_info": {
   "codemirror_mode": {
    "name": "ipython",
    "version": 3
   },
   "file_extension": ".py",
   "mimetype": "text/x-python",
   "name": "python",
   "nbconvert_exporter": "python",
   "pygments_lexer": "ipython3",
   "version": "3.11.5"
  }
 },
 "nbformat": 4,
 "nbformat_minor": 5
}
