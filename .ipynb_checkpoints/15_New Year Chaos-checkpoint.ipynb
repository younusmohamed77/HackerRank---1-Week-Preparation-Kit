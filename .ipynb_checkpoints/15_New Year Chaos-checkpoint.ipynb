{
 "cells": [
  {
   "cell_type": "markdown",
   "id": "31038f20",
   "metadata": {},
   "source": [
    "It is New Year's Day and people are in line for the Wonderland rollercoaster ride. Each person wears a sticker indicating their initial position in the queue from 1 to n. Any person can bribe the person directly in front of them to swap positions, but they still wear their original sticker. One person can bribe at most two others.\n",
    "\n",
    "Determine the minimum number of bribes that took place to get to a given queue order. Print the number of bribes, or, if anyone has bribed more than two people, print Too chaotic.\n",
    "\n",
    "https://www.hackerrank.com/challenges/one-week-preparation-kit-new-year-chaos/problem?isFullScreen=true&h_l=interview&playlist_slugs%5B%5D=preparation-kits&playlist_slugs%5B%5D=one-week-preparation-kit&playlist_slugs%5B%5D=one-week-day-four"
   ]
  },
  {
   "cell_type": "code",
   "execution_count": 1,
   "id": "02b2462a",
   "metadata": {},
   "outputs": [
    {
     "name": "stdout",
     "output_type": "stream",
     "text": [
      "2\n",
      "5\n",
      "2 1 5 3 4\n",
      "5\n",
      "2 5 1 3 4\n"
     ]
    }
   ],
   "source": [
    "#!/bin/python3\n",
    "\n",
    "import math\n",
    "import os\n",
    "import random\n",
    "import re\n",
    "import sys\n",
    "\n",
    "#\n",
    "# Complete the 'minimumBribes' function below.\n",
    "#\n",
    "# The function accepts INTEGER_ARRAY q as parameter.\n",
    "#\n",
    "\n",
    "def minimumBribes(q):\n",
    "    # Write your code here\n",
    "    pass\n",
    "\n",
    "if __name__ == '__main__':\n",
    "    t = int(input().strip())\n",
    "\n",
    "    for t_itr in range(t):\n",
    "        n = int(input().strip())\n",
    "\n",
    "        q = list(map(int, input().rstrip().split()))\n",
    "\n",
    "        minimumBribes(q)\n"
   ]
  },
  {
   "cell_type": "code",
   "execution_count": 2,
   "id": "7a205fc7",
   "metadata": {},
   "outputs": [
    {
     "data": {
      "text/plain": [
       "[2, 5, 1, 3, 4]"
      ]
     },
     "execution_count": 2,
     "metadata": {},
     "output_type": "execute_result"
    }
   ],
   "source": [
    "q"
   ]
  },
  {
   "cell_type": "code",
   "execution_count": 5,
   "id": "8fc9411b",
   "metadata": {},
   "outputs": [
    {
     "name": "stdout",
     "output_type": "stream",
     "text": [
      "Too chaotic\n"
     ]
    }
   ],
   "source": [
    "for i in range(1, len(q) + 1):\n",
    "    if q[i - 1] - i > 2:\n",
    "        print(\"Too chaotic\")"
   ]
  },
  {
   "cell_type": "code",
   "execution_count": 6,
   "id": "f236a5c4",
   "metadata": {},
   "outputs": [
    {
     "name": "stdout",
     "output_type": "stream",
     "text": [
      "1\n",
      "5\n",
      "2 1 5 3 4\n"
     ]
    }
   ],
   "source": [
    "if __name__ == '__main__':\n",
    "    t = int(input().strip())\n",
    "\n",
    "    for t_itr in range(t):\n",
    "        n = int(input().strip())\n",
    "\n",
    "        q = list(map(int, input().rstrip().split()))\n",
    "\n",
    "        minimumBribes(q)\n"
   ]
  },
  {
   "cell_type": "code",
   "execution_count": 10,
   "id": "5b1a9a9e",
   "metadata": {},
   "outputs": [
    {
     "name": "stdout",
     "output_type": "stream",
     "text": [
      "3\n"
     ]
    }
   ],
   "source": [
    "bribe_counter = 0\n",
    "\n",
    "for i in range(1, len(q) + 1):\n",
    "    pos_difference = q[i - 1] - i\n",
    "    \n",
    "    if pos_difference > 2:\n",
    "        print(\"Too chaotic\")\n",
    "        \n",
    "    else:\n",
    "        if pos_difference == 1:\n",
    "            bribe_counter += 1\n",
    "            \n",
    "        elif pos_difference == 2:\n",
    "            bribe_counter += 2\n",
    "            \n",
    "        i = i + pos_difference\n",
    "\n",
    "print(bribe_counter)"
   ]
  },
  {
   "cell_type": "code",
   "execution_count": 12,
   "id": "03335707",
   "metadata": {},
   "outputs": [],
   "source": [
    "def minimumBribes(q):\n",
    "    bribe_counter = 0\n",
    "\n",
    "    for i in range(1, len(q) + 1):\n",
    "        pos_difference = q[i - 1] - i\n",
    "    \n",
    "        if pos_difference > 2:\n",
    "            print(\"Too chaotic\")\n",
    "        \n",
    "        else:\n",
    "            if pos_difference == 1:\n",
    "                bribe_counter += 1\n",
    "            \n",
    "            elif pos_difference == 2:\n",
    "                bribe_counter += 2\n",
    "            \n",
    "            i = i + pos_difference\n",
    "\n",
    "    print(bribe_counter)"
   ]
  },
  {
   "cell_type": "code",
   "execution_count": 14,
   "id": "915e3897",
   "metadata": {},
   "outputs": [],
   "source": [
    "def minimumBribes(q):\n",
    "    bribe_counter = 0\n",
    "\n",
    "    for i in range(1, len(q) + 1):\n",
    "        pos_difference = q[i - 1] - i\n",
    "    \n",
    "        if pos_difference > 2:\n",
    "            print(\"Too chaotic\")\n",
    "            bribe_counter = 0\n",
    "            break\n",
    "        \n",
    "        else:\n",
    "            if pos_difference == 1:\n",
    "                bribe_counter += 1\n",
    "            \n",
    "            elif pos_difference == 2:\n",
    "                bribe_counter += 2\n",
    "            \n",
    "            i = i + pos_difference\n",
    "\n",
    "    if bribe_counter:\n",
    "        print(bribe_counter)"
   ]
  },
  {
   "cell_type": "code",
   "execution_count": 15,
   "id": "e3860bc0",
   "metadata": {},
   "outputs": [
    {
     "name": "stdout",
     "output_type": "stream",
     "text": [
      "3\n",
      "Too chaotic\n"
     ]
    }
   ],
   "source": [
    "# Chat GPT\n",
    "\n",
    "def minimumBribes(q):\n",
    "    bribe_counter = 0\n",
    "    n = len(q)\n",
    "\n",
    "    for i in range(n):\n",
    "        # Check if the current position is too far from the original position\n",
    "        if q[i] - (i + 1) > 2:\n",
    "            print(\"Too chaotic\")\n",
    "            return\n",
    "\n",
    "    # Iterate through the queue to count the number of bribes\n",
    "    for i in range(n):\n",
    "        # Only need to check from one position before q[i]'s original position up to i\n",
    "        for j in range(max(0, q[i] - 2), i):\n",
    "            if q[j] > q[i]:\n",
    "                bribe_counter += 1\n",
    "\n",
    "    print(bribe_counter)\n",
    "\n",
    "# Example usage\n",
    "minimumBribes([2, 1, 5, 3, 4])  # Output: 3\n",
    "minimumBribes([2, 5, 1, 3, 4])  # Output: Too chaotic\n"
   ]
  },
  {
   "cell_type": "code",
   "execution_count": 16,
   "id": "4420c115",
   "metadata": {},
   "outputs": [],
   "source": [
    "def minimumBribes(q):\n",
    "    bribe_counter = 0\n",
    "    n = len(q)\n",
    "\n",
    "    for i in range(n):\n",
    "        if q[i] - (i + 1) > 2:\n",
    "            print(\"Too chaotic\")\n",
    "            return\n",
    "\n",
    "        for j in range(max(0, q[i] - 2), i):\n",
    "            if q[j] > q[i]:\n",
    "                bribe_counter += 1\n",
    "\n",
    "    print(bribe_counter)"
   ]
  },
  {
   "cell_type": "code",
   "execution_count": null,
   "id": "4c52567b",
   "metadata": {},
   "outputs": [],
   "source": []
  }
 ],
 "metadata": {
  "kernelspec": {
   "display_name": "Python 3 (ipykernel)",
   "language": "python",
   "name": "python3"
  },
  "language_info": {
   "codemirror_mode": {
    "name": "ipython",
    "version": 3
   },
   "file_extension": ".py",
   "mimetype": "text/x-python",
   "name": "python",
   "nbconvert_exporter": "python",
   "pygments_lexer": "ipython3",
   "version": "3.11.5"
  }
 },
 "nbformat": 4,
 "nbformat_minor": 5
}
