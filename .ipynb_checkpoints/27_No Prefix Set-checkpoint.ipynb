{
 "cells": [
  {
   "cell_type": "markdown",
   "id": "183e6b7d",
   "metadata": {},
   "source": [
    "There is a given list of strings where each string contains only lowercase letters from a - j, inclusive. The set of strings is said to be a GOOD SET if no string is a prefix of another string. In this case, print GOOD SET. Otherwise, print BAD SET on the first line followed by the string being checked.\n",
    "\n",
    "Note If two strings are identical, they are prefixes of each other."
   ]
  },
  {
   "cell_type": "code",
   "execution_count": 1,
   "id": "f0a3b70e",
   "metadata": {},
   "outputs": [
    {
     "name": "stdout",
     "output_type": "stream",
     "text": [
      "7\n",
      "aab\n",
      "defgab\n",
      "abcde\n",
      "aabcde\n",
      "cedaaa\n",
      "bbbbbbbbbb\n",
      "jabjjjad\n"
     ]
    }
   ],
   "source": [
    "#!/bin/python3\n",
    "\n",
    "import math\n",
    "import os\n",
    "import random\n",
    "import re\n",
    "import sys\n",
    "\n",
    "#\n",
    "# Complete the 'noPrefix' function below.\n",
    "#\n",
    "# The function accepts STRING_ARRAY words as parameter.\n",
    "#\n",
    "\n",
    "def noPrefix(words):\n",
    "    # Write your code here\n",
    "    pass\n",
    "\n",
    "if __name__ == '__main__':\n",
    "    n = int(input().strip())\n",
    "\n",
    "    words = []\n",
    "\n",
    "    for _ in range(n):\n",
    "        words_item = input()\n",
    "        words.append(words_item)\n",
    "\n",
    "    noPrefix(words)\n"
   ]
  },
  {
   "cell_type": "code",
   "execution_count": 6,
   "id": "01318563",
   "metadata": {},
   "outputs": [],
   "source": [
    "def noPrefix(words):\n",
    "    for word in words:\n",
    "        word_tested = word\n",
    "        \n",
    "        for i in range(len(words)):\n",
    "            \n",
    "            if words[i] != word_tested and len(word_tested) > len(words[i]):\n",
    "                if words[i] == word_tested[:len(words[i])]:\n",
    "                    print(\"BAD SET\")\n",
    "                    print(word_tested)\n",
    "                    return\n",
    "                    \n",
    "    print(\"GOOD SET\")"
   ]
  },
  {
   "cell_type": "code",
   "execution_count": 7,
   "id": "00645922",
   "metadata": {},
   "outputs": [
    {
     "name": "stdout",
     "output_type": "stream",
     "text": [
      "BAD SET\n",
      "aabcde\n"
     ]
    }
   ],
   "source": [
    "noPrefix(words)"
   ]
  },
  {
   "cell_type": "code",
   "execution_count": null,
   "id": "4e96591e",
   "metadata": {},
   "outputs": [],
   "source": [
    "# Chat GPT\n",
    "\n",
    "# Your code aims to determine if any word in the given list of words is a prefix of another word in the list. However, it seems the logic might not handle all cases correctly. Let's refine the approach to ensure that no word in the set is a prefix of another.\n",
    "\n",
    "# Here is a more optimized solution using a Trie data structure:\n",
    "\n",
    "#!/bin/python3\n",
    "\n",
    "import math\n",
    "import os\n",
    "import random\n",
    "import re\n",
    "import sys\n",
    "\n",
    "#\n",
    "# Complete the 'noPrefix' function below.\n",
    "#\n",
    "# The function accepts STRING_ARRAY words as parameter.\n",
    "#\n",
    "\n",
    "# def noPrefix(words):\n",
    "#     for word in words:\n",
    "#         word_tested = word\n",
    "        \n",
    "#         for i in range(len(words)):\n",
    "            \n",
    "#             if words[i] != word_tested and len(word_tested) > len(words[i]):\n",
    "#                 if words[i] == word_tested[:len(words[i])]:\n",
    "#                     print(\"BAD SET\")\n",
    "#                     print(word_tested)\n",
    "#                     return\n",
    "                    \n",
    "#     print(\"GOOD SET\")\n",
    "\n",
    "class TrieNode:\n",
    "    def __init__(self):\n",
    "        self.children = {}\n",
    "        self.is_end_of_word = False\n",
    "\n",
    "class Trie:\n",
    "    def __init__(self):\n",
    "        self.root = TrieNode()\n",
    "\n",
    "    def insert(self, word):\n",
    "        current_node = self.root\n",
    "        for char in word:\n",
    "            if char not in current_node.children:\n",
    "                current_node.children[char] = TrieNode()\n",
    "            current_node = current_node.children[char]\n",
    "            if current_node.is_end_of_word:\n",
    "                return False\n",
    "        if current_node.children:\n",
    "            return False\n",
    "        current_node.is_end_of_word = True\n",
    "        return True\n",
    "\n",
    "def noPrefix(words):\n",
    "    trie = Trie()\n",
    "    for word in words:\n",
    "        if not trie.insert(word):\n",
    "            print(\"BAD SET\")\n",
    "            print(word)\n",
    "            return\n",
    "    print(\"GOOD SET\")\n",
    "\n",
    "if __name__ == '__main__':\n",
    "    n = int(input().strip())\n",
    "\n",
    "    words = []\n",
    "\n",
    "    for _ in range(n):\n",
    "        words_item = input()\n",
    "        words.append(words_item)\n",
    "\n",
    "    noPrefix(words)\n"
   ]
  }
 ],
 "metadata": {
  "kernelspec": {
   "display_name": "Python 3 (ipykernel)",
   "language": "python",
   "name": "python3"
  },
  "language_info": {
   "codemirror_mode": {
    "name": "ipython",
    "version": 3
   },
   "file_extension": ".py",
   "mimetype": "text/x-python",
   "name": "python",
   "nbconvert_exporter": "python",
   "pygments_lexer": "ipython3",
   "version": "3.11.5"
  }
 },
 "nbformat": 4,
 "nbformat_minor": 5
}
