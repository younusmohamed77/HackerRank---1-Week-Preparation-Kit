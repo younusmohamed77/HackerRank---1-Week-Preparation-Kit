{
 "cells": [
  {
   "cell_type": "markdown",
   "id": "a2c28134",
   "metadata": {},
   "source": [
    "Given a square grid of characters in the range ascii[a-z], rearrange elements of each row alphabetically, ascending. Determine if the columns are also in ascending alphabetical order, top to bottom. Return YES if they are or NO if they are not.\n",
    "\n",
    "https://www.hackerrank.com/challenges/one-week-preparation-kit-grid-challenge/problem?isFullScreen=true&h_l=interview&playlist_slugs%5B%5D=preparation-kits&playlist_slugs%5B%5D=one-week-preparation-kit&playlist_slugs%5B%5D=one-week-day-four"
   ]
  },
  {
   "cell_type": "code",
   "execution_count": 1,
   "id": "d3d9ffd3",
   "metadata": {},
   "outputs": [
    {
     "ename": "IndentationError",
     "evalue": "expected an indented block after function definition on line 16 (62317088.py, line 19)",
     "output_type": "error",
     "traceback": [
      "\u001b[1;36m  Cell \u001b[1;32mIn[1], line 19\u001b[1;36m\u001b[0m\n\u001b[1;33m    if __name__ == '__main__':\u001b[0m\n\u001b[1;37m    ^\u001b[0m\n\u001b[1;31mIndentationError\u001b[0m\u001b[1;31m:\u001b[0m expected an indented block after function definition on line 16\n"
     ]
    }
   ],
   "source": [
    "#!/bin/python3\n",
    "\n",
    "import math\n",
    "import os\n",
    "import random\n",
    "import re\n",
    "import sys\n",
    "\n",
    "#\n",
    "# Complete the 'gridChallenge' function below.\n",
    "#\n",
    "# The function is expected to return a STRING.\n",
    "# The function accepts STRING_ARRAY grid as parameter.\n",
    "#\n",
    "\n",
    "def gridChallenge(grid):\n",
    "    # Write your code here\n",
    "\n",
    "if __name__ == '__main__':\n",
    "    fptr = open(os.environ['OUTPUT_PATH'], 'w')\n",
    "\n",
    "    t = int(input().strip())\n",
    "\n",
    "    for t_itr in range(t):\n",
    "        n = int(input().strip())\n",
    "\n",
    "        grid = []\n",
    "\n",
    "        for _ in range(n):\n",
    "            grid_item = input()\n",
    "            grid.append(grid_item)\n",
    "\n",
    "        result = gridChallenge(grid)\n",
    "\n",
    "        fptr.write(result + '\\n')\n",
    "\n",
    "    fptr.close()\n"
   ]
  },
  {
   "cell_type": "code",
   "execution_count": 2,
   "id": "04cb86df",
   "metadata": {},
   "outputs": [
    {
     "name": "stdout",
     "output_type": "stream",
     "text": [
      "1\n",
      "5\n",
      "ebacd\n",
      "fghij\n",
      "olmkn\n",
      "trpqs\n",
      "xywuv\n"
     ]
    },
    {
     "ename": "TypeError",
     "evalue": "unsupported operand type(s) for +: 'NoneType' and 'str'",
     "output_type": "error",
     "traceback": [
      "\u001b[1;31m---------------------------------------------------------------------------\u001b[0m",
      "\u001b[1;31mTypeError\u001b[0m                                 Traceback (most recent call last)",
      "Cell \u001b[1;32mIn[2], line 31\u001b[0m\n\u001b[0;32m     28\u001b[0m     grid\u001b[38;5;241m.\u001b[39mappend(grid_item)\n\u001b[0;32m     29\u001b[0m result \u001b[38;5;241m=\u001b[39m gridChallenge(grid)\n\u001b[1;32m---> 31\u001b[0m \u001b[38;5;28mprint\u001b[39m(result \u001b[38;5;241m+\u001b[39m \u001b[38;5;124m'\u001b[39m\u001b[38;5;130;01m\\n\u001b[39;00m\u001b[38;5;124m'\u001b[39m)\n",
      "\u001b[1;31mTypeError\u001b[0m: unsupported operand type(s) for +: 'NoneType' and 'str'"
     ]
    }
   ],
   "source": [
    "#!/bin/python3\n",
    "\n",
    "import math\n",
    "import os\n",
    "import random\n",
    "import re\n",
    "import sys\n",
    "\n",
    "#\n",
    "# Complete the 'gridChallenge' function below.\n",
    "#\n",
    "# The function is expected to return a STRING.\n",
    "# The function accepts STRING_ARRAY grid as parameter.\n",
    "#\n",
    "\n",
    "def gridChallenge(grid):\n",
    "    # Write your code here\n",
    "    pass\n",
    "\n",
    "if __name__ == '__main__':\n",
    "    t = int(input().strip())\n",
    "\n",
    "    for t_itr in range(t):\n",
    "        n = int(input().strip())\n",
    "        grid = []\n",
    "        for _ in range(n):\n",
    "            grid_item = input()\n",
    "            grid.append(grid_item)\n",
    "        result = gridChallenge(grid)\n",
    "\n",
    "        print(result + '\\n')"
   ]
  },
  {
   "cell_type": "code",
   "execution_count": 3,
   "id": "29e2ca04",
   "metadata": {},
   "outputs": [
    {
     "data": {
      "text/plain": [
       "['ebacd', 'fghij', 'olmkn', 'trpqs', 'xywuv']"
      ]
     },
     "execution_count": 3,
     "metadata": {},
     "output_type": "execute_result"
    }
   ],
   "source": [
    "grid"
   ]
  },
  {
   "cell_type": "code",
   "execution_count": 6,
   "id": "746667d5",
   "metadata": {},
   "outputs": [
    {
     "data": {
      "text/plain": [
       "['a', 'b', 'c', 'd']"
      ]
     },
     "execution_count": 6,
     "metadata": {},
     "output_type": "execute_result"
    }
   ],
   "source": [
    "s = 'bcda'\n",
    "sorted(s)"
   ]
  },
  {
   "cell_type": "code",
   "execution_count": 9,
   "id": "13ca2930",
   "metadata": {},
   "outputs": [
    {
     "data": {
      "text/plain": [
       "'abcd'"
      ]
     },
     "execution_count": 9,
     "metadata": {},
     "output_type": "execute_result"
    }
   ],
   "source": [
    "s1 = ''.join(sorted(s))\n",
    "s1"
   ]
  },
  {
   "cell_type": "code",
   "execution_count": 14,
   "id": "3b61a722",
   "metadata": {},
   "outputs": [],
   "source": [
    "def gridChallenge(grid):\n",
    "    sorted_grid = []\n",
    "    sorted_first = ''\n",
    "    out = ['YES', 'NO']\n",
    "    \n",
    "    for st in grid:\n",
    "        sorted_st = ''.join(sorted(st))\n",
    "        sorted_grid.append(sorted_st)\n",
    "        \n",
    "    for st in sorted_grid:\n",
    "        sorted_first.join(st[0])\n",
    "        \n",
    "    check = ''.join(sorted(sorted_first))\n",
    "    \n",
    "    if sorted_first == check:\n",
    "        return out[0]\n",
    "    \n",
    "    else:\n",
    "        return out[1]"
   ]
  },
  {
   "cell_type": "code",
   "execution_count": 15,
   "id": "b021ae9f",
   "metadata": {},
   "outputs": [
    {
     "data": {
      "text/plain": [
       "'YES'"
      ]
     },
     "execution_count": 15,
     "metadata": {},
     "output_type": "execute_result"
    }
   ],
   "source": [
    "gridChallenge(grid)"
   ]
  },
  {
   "cell_type": "code",
   "execution_count": 16,
   "id": "b39e98d9",
   "metadata": {},
   "outputs": [
    {
     "name": "stdout",
     "output_type": "stream",
     "text": [
      "3\n",
      "3\n",
      "abc\n",
      "lmp\n",
      "qrt\n",
      "YES\n",
      "3\n",
      "mpxz\n",
      "abcd\n",
      "wlmf\n",
      "YES\n",
      "4\n",
      "abc\n",
      "hjk\n",
      "mpq\n",
      "rtv\n",
      "YES\n"
     ]
    }
   ],
   "source": [
    "if __name__ == '__main__':\n",
    "    t = int(input().strip())\n",
    "\n",
    "    for t_itr in range(t):\n",
    "        n = int(input().strip())\n",
    "        grid = []\n",
    "        for _ in range(n):\n",
    "            grid_item = input()\n",
    "            grid.append(grid_item)\n",
    "        result = gridChallenge(grid)\n",
    "\n",
    "        print(result)"
   ]
  },
  {
   "cell_type": "code",
   "execution_count": 17,
   "id": "07067ae4",
   "metadata": {},
   "outputs": [],
   "source": [
    "def gridChallenge(grid):\n",
    "    sorted_grid = []\n",
    "    sorted_first = ''\n",
    "    out = ['YES', 'NO']\n",
    "    \n",
    "    for st in grid:\n",
    "        sorted_st = ''.join(sorted(st))\n",
    "        sorted_grid.append(sorted_st)\n",
    "        \n",
    "    print(sorted_grid)\n",
    "    \n",
    "    for st in sorted_grid:\n",
    "        sorted_first.join(st[0])\n",
    "        \n",
    "    check = ''.join(sorted(sorted_first))\n",
    "    print(sorted_first, check)\n",
    "    \n",
    "    if sorted_first == check:\n",
    "        return out[0]\n",
    "    \n",
    "    else:\n",
    "        return out[1]"
   ]
  },
  {
   "cell_type": "code",
   "execution_count": 18,
   "id": "a85570eb",
   "metadata": {},
   "outputs": [
    {
     "name": "stdout",
     "output_type": "stream",
     "text": [
      "['abc', 'hjk', 'mpq', 'rtv']\n",
      " \n"
     ]
    },
    {
     "data": {
      "text/plain": [
       "'YES'"
      ]
     },
     "execution_count": 18,
     "metadata": {},
     "output_type": "execute_result"
    }
   ],
   "source": [
    "gridChallenge(grid)"
   ]
  },
  {
   "cell_type": "code",
   "execution_count": 24,
   "id": "f14b6437",
   "metadata": {},
   "outputs": [
    {
     "name": "stdout",
     "output_type": "stream",
     "text": [
      "['abc', 'hjk', 'mpq', 'rtv']\n",
      "ahmr ahmr\n",
      "YES\n"
     ]
    }
   ],
   "source": [
    "sorted_grid = []\n",
    "sorted_first = ''\n",
    "out = ['YES', 'NO']\n",
    "    \n",
    "for st in grid:\n",
    "    sorted_st = ''.join(sorted(st))\n",
    "    sorted_grid.append(sorted_st)\n",
    "        \n",
    "print(sorted_grid)\n",
    "    \n",
    "for s in sorted_grid:\n",
    "    sorted_first = sorted_first + s[0]\n",
    "        \n",
    "check = ''.join(sorted(sorted_first))\n",
    "print(sorted_first, check)\n",
    "    \n",
    "if sorted_first == check:\n",
    "    print('YES')\n",
    "    \n",
    "else:\n",
    "    print(\"NO\")"
   ]
  },
  {
   "cell_type": "code",
   "execution_count": 25,
   "id": "93d288f8",
   "metadata": {},
   "outputs": [],
   "source": [
    "def gridChallenge(grid):\n",
    "    # Write your code here\n",
    "    sorted_grid = []\n",
    "    sorted_first = ''\n",
    "    out = ['YES', 'NO']\n",
    "    \n",
    "    for st in grid:\n",
    "        sorted_st = ''.join(sorted(st))\n",
    "        sorted_grid.append(sorted_st)\n",
    "        \n",
    "    for s in sorted_grid:\n",
    "        sorted_first = sorted_first + s[0]\n",
    "        \n",
    "    check = ''.join(sorted(sorted_first))\n",
    "    \n",
    "    if sorted_first == check:\n",
    "        return out[0]\n",
    "    \n",
    "    else:\n",
    "        return out[1]\n",
    "        "
   ]
  },
  {
   "cell_type": "code",
   "execution_count": 27,
   "id": "2349517d",
   "metadata": {},
   "outputs": [
    {
     "name": "stdout",
     "output_type": "stream",
     "text": [
      "ahmr ahmr\n",
      "YES\n"
     ]
    }
   ],
   "source": [
    "sorted_first = ''\n",
    "\n",
    "for st in grid:\n",
    "    sorted_st = ''.join(sorted(st))\n",
    "    sorted_first += sorted_st[0]\n",
    "    \n",
    "check = ''.join(sorted(sorted_first))\n",
    "print(sorted_first, check)\n",
    "    \n",
    "if sorted_first == check:\n",
    "    print('YES')\n",
    "    \n",
    "else:\n",
    "    print(\"NO\")"
   ]
  },
  {
   "cell_type": "code",
   "execution_count": 30,
   "id": "84d5c12e",
   "metadata": {},
   "outputs": [],
   "source": [
    "def gridChallenge(grid):\n",
    "    sorted_first = ''\n",
    "    out = ['YES', 'NO']\n",
    "\n",
    "    for st in grid:\n",
    "        sorted_st = ''.join(sorted(st))\n",
    "        sorted_first += sorted_st[0]\n",
    "    \n",
    "    check = ''.join(sorted(sorted_first))\n",
    "    \n",
    "    if sorted_first == check:\n",
    "        return out[0]\n",
    "    \n",
    "    else:\n",
    "        return out[1]"
   ]
  },
  {
   "cell_type": "code",
   "execution_count": 31,
   "id": "1291e900",
   "metadata": {},
   "outputs": [
    {
     "name": "stdout",
     "output_type": "stream",
     "text": [
      "2\n",
      "2\n",
      "kc\n",
      "iu\n",
      "YES\n",
      "3\n",
      "uxf\n",
      "vof\n",
      "hmp\n",
      "YES\n"
     ]
    }
   ],
   "source": [
    "if __name__ == '__main__':\n",
    "    t = int(input().strip())\n",
    "\n",
    "    for t_itr in range(t):\n",
    "        n = int(input().strip())\n",
    "        grid = []\n",
    "        for _ in range(n):\n",
    "            grid_item = input()\n",
    "            grid.append(grid_item)\n",
    "        result = gridChallenge(grid)\n",
    "\n",
    "        print(result)"
   ]
  },
  {
   "cell_type": "code",
   "execution_count": 32,
   "id": "3b3ef239",
   "metadata": {},
   "outputs": [
    {
     "name": "stdout",
     "output_type": "stream",
     "text": [
      "ffh ffh\n",
      "YES\n"
     ]
    }
   ],
   "source": [
    "sorted_first = ''\n",
    "\n",
    "for st in grid:\n",
    "    sorted_st = ''.join(sorted(st))\n",
    "    sorted_first += sorted_st[0]\n",
    "    \n",
    "check = ''.join(sorted(sorted_first))\n",
    "print(sorted_first, check)\n",
    "    \n",
    "if sorted_first == check:\n",
    "    print('YES')\n",
    "    \n",
    "else:\n",
    "    print(\"NO\")"
   ]
  },
  {
   "cell_type": "code",
   "execution_count": null,
   "id": "53fa72e8",
   "metadata": {},
   "outputs": [],
   "source": [
    "def gridChallenge(grid):\n",
    "    # Write your code here\n",
    "    # sorted_grid = []\n",
    "    # sorted_first = ''\n",
    "    # out = ['YES', 'NO']\n",
    "    \n",
    "    # for st in grid:\n",
    "    #     sorted_st = ''.join(sorted(st))\n",
    "    #     sorted_grid.append(sorted_st)\n",
    "        \n",
    "    # for s in sorted_grid:\n",
    "    #     sorted_first = sorted_first + s[0]\n",
    "        \n",
    "    # check = ''.join(sorted(sorted_first))\n",
    "    \n",
    "    # if sorted_first == check:\n",
    "    #     return out[0]\n",
    "    \n",
    "    # else:\n",
    "    #     return out[1]\n",
    "    # sorted_first = ''\n",
    "    # out = ['YES', 'NO']\n",
    "\n",
    "    # for st in grid:\n",
    "    #     sorted_st = ''.join(sorted(st))\n",
    "    #     sorted_first += sorted_st[0]\n",
    "    \n",
    "    # check = ''.join(sorted(sorted_first))\n",
    "    \n",
    "    # if sorted_first == check:\n",
    "    #     return out[0]\n",
    "    \n",
    "    # else:\n",
    "    #     return out[1]\n",
    "    out = ['YES', 'NO']\n",
    "    \n",
    "    sorted_grid = [''.join(sorted(row)) for row in grid]\n",
    "    \n",
    "    for col in range(len(sorted_grid[0])):\n",
    "        for row in range(1, len(sorted_grid)):\n",
    "            if sorted_grid[row][col] < sorted_grid[row-1][col]:\n",
    "                return out[1]\n",
    "    \n",
    "    return out[0]\n",
    "    "
   ]
  }
 ],
 "metadata": {
  "kernelspec": {
   "display_name": "Python 3 (ipykernel)",
   "language": "python",
   "name": "python3"
  },
  "language_info": {
   "codemirror_mode": {
    "name": "ipython",
    "version": 3
   },
   "file_extension": ".py",
   "mimetype": "text/x-python",
   "name": "python",
   "nbconvert_exporter": "python",
   "pygments_lexer": "ipython3",
   "version": "3.11.5"
  }
 },
 "nbformat": 4,
 "nbformat_minor": 5
}
