{
 "cells": [
  {
   "cell_type": "code",
   "execution_count": 1,
   "id": "63e03a78",
   "metadata": {},
   "outputs": [
    {
     "ename": "KeyError",
     "evalue": "'OUTPUT_PATH'",
     "output_type": "error",
     "traceback": [
      "\u001b[1;31m---------------------------------------------------------------------------\u001b[0m",
      "\u001b[1;31mKeyError\u001b[0m                                  Traceback (most recent call last)",
      "Cell \u001b[1;32mIn[1], line 23\u001b[0m\n\u001b[0;32m     20\u001b[0m     \u001b[38;5;28;01mpass\u001b[39;00m\n\u001b[0;32m     22\u001b[0m \u001b[38;5;28;01mif\u001b[39;00m \u001b[38;5;18m__name__\u001b[39m \u001b[38;5;241m==\u001b[39m \u001b[38;5;124m'\u001b[39m\u001b[38;5;124m__main__\u001b[39m\u001b[38;5;124m'\u001b[39m:\n\u001b[1;32m---> 23\u001b[0m     fptr \u001b[38;5;241m=\u001b[39m \u001b[38;5;28mopen\u001b[39m(os\u001b[38;5;241m.\u001b[39menviron[\u001b[38;5;124m'\u001b[39m\u001b[38;5;124mOUTPUT_PATH\u001b[39m\u001b[38;5;124m'\u001b[39m], \u001b[38;5;124m'\u001b[39m\u001b[38;5;124mw\u001b[39m\u001b[38;5;124m'\u001b[39m)\n\u001b[0;32m     25\u001b[0m     q \u001b[38;5;241m=\u001b[39m \u001b[38;5;28mint\u001b[39m(\u001b[38;5;28minput\u001b[39m()\u001b[38;5;241m.\u001b[39mstrip())\n\u001b[0;32m     27\u001b[0m     \u001b[38;5;28;01mfor\u001b[39;00m q_itr \u001b[38;5;129;01min\u001b[39;00m \u001b[38;5;28mrange\u001b[39m(q):\n",
      "File \u001b[1;32m<frozen os>:679\u001b[0m, in \u001b[0;36m__getitem__\u001b[1;34m(self, key)\u001b[0m\n",
      "\u001b[1;31mKeyError\u001b[0m: 'OUTPUT_PATH'"
     ]
    }
   ],
   "source": [
    "#!/bin/python3\n",
    "\n",
    "import math\n",
    "import os\n",
    "import random\n",
    "import re\n",
    "import sys\n",
    "\n",
    "\n",
    "\n",
    "#\n",
    "# Complete the 'flippingMatrix' function below.\n",
    "#\n",
    "# The function is expected to return an INTEGER.\n",
    "# The function accepts 2D_INTEGER_ARRAY matrix as parameter.\n",
    "#\n",
    "\n",
    "def flippingMatrix(matrix):\n",
    "    # Write your code here\n",
    "    pass\n",
    "\n",
    "if __name__ == '__main__':\n",
    "    fptr = open(os.environ['OUTPUT_PATH'], 'w')\n",
    "\n",
    "    q = int(input().strip())\n",
    "\n",
    "    for q_itr in range(q):\n",
    "        n = int(input().strip())\n",
    "\n",
    "        matrix = []\n",
    "\n",
    "        for _ in range(2 * n):\n",
    "            matrix.append(list(map(int, input().rstrip().split())))\n",
    "\n",
    "        result = flippingMatrix(matrix)\n",
    "\n",
    "        fptr.write(str(result) + '\\n')\n",
    "\n",
    "    fptr.close()\n"
   ]
  },
  {
   "cell_type": "code",
   "execution_count": 2,
   "id": "c9aeed10",
   "metadata": {},
   "outputs": [
    {
     "name": "stdout",
     "output_type": "stream",
     "text": [
      "1\n",
      "2\n",
      "112 42 83 119\n",
      "56 125 56 49\n",
      "15 78 101 43\n",
      "62 98 114 108\n",
      "None\n",
      "\n"
     ]
    }
   ],
   "source": [
    "#!/bin/python3\n",
    "\n",
    "import math\n",
    "import os\n",
    "import random\n",
    "import re\n",
    "import sys\n",
    "\n",
    "\n",
    "\n",
    "#\n",
    "# Complete the 'flippingMatrix' function below.\n",
    "#\n",
    "# The function is expected to return an INTEGER.\n",
    "# The function accepts 2D_INTEGER_ARRAY matrix as parameter.\n",
    "#\n",
    "\n",
    "def flippingMatrix(matrix):\n",
    "    # Write your code here\n",
    "    pass\n",
    "\n",
    "if __name__ == '__main__':\n",
    "    q = int(input().strip())\n",
    "    for q_itr in range(q):\n",
    "        n = int(input().strip())\n",
    "        matrix = []\n",
    "        for _ in range(2 * n):\n",
    "            matrix.append(list(map(int, input().rstrip().split())))\n",
    "\n",
    "        result = flippingMatrix(matrix)\n",
    "        print(str(result) + '\\n')"
   ]
  },
  {
   "cell_type": "code",
   "execution_count": 3,
   "id": "6fbe6430",
   "metadata": {},
   "outputs": [
    {
     "name": "stdout",
     "output_type": "stream",
     "text": [
      "[[112, 42, 83, 119], [56, 125, 56, 49], [15, 78, 101, 43], [62, 98, 114, 108]]\n"
     ]
    }
   ],
   "source": [
    "print(matrix)"
   ]
  },
  {
   "cell_type": "code",
   "execution_count": 5,
   "id": "222d6112",
   "metadata": {},
   "outputs": [
    {
     "name": "stdout",
     "output_type": "stream",
     "text": [
      "[]\n"
     ]
    }
   ],
   "source": [
    "print(matrix[int(len(matrix) / 2) : int(len(matrix) / 2)])"
   ]
  },
  {
   "cell_type": "code",
   "execution_count": 6,
   "id": "1a0f8b21",
   "metadata": {},
   "outputs": [
    {
     "name": "stdout",
     "output_type": "stream",
     "text": [
      "2\n"
     ]
    }
   ],
   "source": [
    "print(int(len(matrix) / 2))"
   ]
  },
  {
   "cell_type": "code",
   "execution_count": 7,
   "id": "40563390",
   "metadata": {},
   "outputs": [
    {
     "data": {
      "text/plain": [
       "[]"
      ]
     },
     "execution_count": 7,
     "metadata": {},
     "output_type": "execute_result"
    }
   ],
   "source": [
    "matrix[2:2]"
   ]
  },
  {
   "cell_type": "code",
   "execution_count": 8,
   "id": "2cb973fa",
   "metadata": {},
   "outputs": [
    {
     "name": "stdout",
     "output_type": "stream",
     "text": [
      "[[112, 42], [56, 125]]\n"
     ]
    }
   ],
   "source": [
    "submatrix = [row[:2] for row in matrix[:2]]\n",
    "print(submatrix)"
   ]
  },
  {
   "cell_type": "code",
   "execution_count": 9,
   "id": "38622993",
   "metadata": {},
   "outputs": [
    {
     "ename": "TypeError",
     "evalue": "unsupported operand type(s) for +: 'int' and 'list'",
     "output_type": "error",
     "traceback": [
      "\u001b[1;31m---------------------------------------------------------------------------\u001b[0m",
      "\u001b[1;31mTypeError\u001b[0m                                 Traceback (most recent call last)",
      "Cell \u001b[1;32mIn[9], line 1\u001b[0m\n\u001b[1;32m----> 1\u001b[0m \u001b[38;5;28mprint\u001b[39m(\u001b[38;5;28msum\u001b[39m(submatrix))\n",
      "\u001b[1;31mTypeError\u001b[0m: unsupported operand type(s) for +: 'int' and 'list'"
     ]
    }
   ],
   "source": [
    "print(sum(submatrix))"
   ]
  },
  {
   "cell_type": "code",
   "execution_count": 10,
   "id": "72da970c",
   "metadata": {},
   "outputs": [
    {
     "ename": "AttributeError",
     "evalue": "'list' object has no attribute 'sum'",
     "output_type": "error",
     "traceback": [
      "\u001b[1;31m---------------------------------------------------------------------------\u001b[0m",
      "\u001b[1;31mAttributeError\u001b[0m                            Traceback (most recent call last)",
      "Cell \u001b[1;32mIn[10], line 1\u001b[0m\n\u001b[1;32m----> 1\u001b[0m \u001b[38;5;28mprint\u001b[39m(submatrix\u001b[38;5;241m.\u001b[39msum())\n",
      "\u001b[1;31mAttributeError\u001b[0m: 'list' object has no attribute 'sum'"
     ]
    }
   ],
   "source": [
    "print(submatrix.sum())"
   ]
  },
  {
   "cell_type": "code",
   "execution_count": 11,
   "id": "4930ce8c",
   "metadata": {},
   "outputs": [
    {
     "name": "stdout",
     "output_type": "stream",
     "text": [
      "335\n"
     ]
    }
   ],
   "source": [
    "total_sum = sum([element for row in submatrix for element in row])\n",
    "print(total_sum)"
   ]
  },
  {
   "cell_type": "code",
   "execution_count": 17,
   "id": "b25eb9c9",
   "metadata": {},
   "outputs": [
    {
     "name": "stdout",
     "output_type": "stream",
     "text": [
      "[[112, 42], [56, 125]]\n"
     ]
    }
   ],
   "source": [
    "submatrix = [row[:int(len(matrix) / 2)] for row in matrix[:int(len(matrix) / 2)]]\n",
    "print(submatrix)"
   ]
  },
  {
   "cell_type": "code",
   "execution_count": 26,
   "id": "b8e0c68c",
   "metadata": {},
   "outputs": [
    {
     "name": "stdout",
     "output_type": "stream",
     "text": [
      "[[112, 42], [56, 125]]\n",
      "[[83, 119], [56, 49]]\n",
      "[[15, 78], [62, 98]]\n",
      "[[101, 43], [114, 108]]\n"
     ]
    }
   ],
   "source": [
    "first_quadrant = [row[:int(len(matrix) / 2)] for row in matrix[:int(len(matrix) / 2)]]\n",
    "second_quadrant = [row[int(len(matrix) / 2):] for row in matrix[:int(len(matrix) / 2)]]\n",
    "third_quadrant = [row[:int(len(matrix) / 2)] for row in matrix[int(len(matrix) / 2):]]\n",
    "fourth_quadrant = [row[int(len(matrix) / 2):int(len(matrix))] for row in matrix[int(len(matrix) / 2):int(len(matrix))]]\n",
    "print(first_quadrant)\n",
    "print(second_quadrant)\n",
    "print(third_quadrant)\n",
    "print(fourth_quadrant)"
   ]
  },
  {
   "cell_type": "code",
   "execution_count": 27,
   "id": "ac8c7294",
   "metadata": {},
   "outputs": [
    {
     "name": "stdout",
     "output_type": "stream",
     "text": [
      "[112, 42, 83, 119]\n",
      "[56, 125, 56, 49]\n",
      "[15, 78, 101, 43]\n",
      "[62, 98, 114, 108]\n"
     ]
    }
   ],
   "source": [
    "for i in matrix:\n",
    "    print(i)"
   ]
  },
  {
   "cell_type": "code",
   "execution_count": 28,
   "id": "f573f7e8",
   "metadata": {},
   "outputs": [
    {
     "ename": "ValueError",
     "evalue": "too many values to unpack (expected 2)",
     "output_type": "error",
     "traceback": [
      "\u001b[1;31m---------------------------------------------------------------------------\u001b[0m",
      "\u001b[1;31mValueError\u001b[0m                                Traceback (most recent call last)",
      "Cell \u001b[1;32mIn[28], line 1\u001b[0m\n\u001b[1;32m----> 1\u001b[0m \u001b[38;5;28;01mfor\u001b[39;00m i,j \u001b[38;5;129;01min\u001b[39;00m matrix:\n\u001b[0;32m      2\u001b[0m     \u001b[38;5;28mprint\u001b[39m(i)\n\u001b[0;32m      3\u001b[0m     \u001b[38;5;28mprint\u001b[39m(j)\n",
      "\u001b[1;31mValueError\u001b[0m: too many values to unpack (expected 2)"
     ]
    }
   ],
   "source": [
    "for i,j in matrix:\n",
    "    print(i)\n",
    "    print(j)"
   ]
  },
  {
   "cell_type": "code",
   "execution_count": 30,
   "id": "a6a67aa6",
   "metadata": {},
   "outputs": [
    {
     "name": "stdout",
     "output_type": "stream",
     "text": [
      "335 307 253 366\n"
     ]
    }
   ],
   "source": [
    "first_quadrant_sum = sum([element for row in first_quadrant for element in row])\n",
    "second_quadrant_sum = sum([element for row in second_quadrant for element in row])\n",
    "third_quadrant_sum = sum([element for row in third_quadrant for element in row])\n",
    "fourth_quadrant_sum = sum([element for row in fourth_quadrant for element in row])\n",
    "print(first_quadrant_sum, second_quadrant_sum, third_quadrant_sum, fourth_quadrant_sum)"
   ]
  },
  {
   "cell_type": "code",
   "execution_count": 31,
   "id": "d074acda",
   "metadata": {},
   "outputs": [
    {
     "ename": "KeyError",
     "evalue": "'OUTPUT_PATH'",
     "output_type": "error",
     "traceback": [
      "\u001b[1;31m---------------------------------------------------------------------------\u001b[0m",
      "\u001b[1;31mKeyError\u001b[0m                                  Traceback (most recent call last)",
      "Cell \u001b[1;32mIn[31], line 20\u001b[0m\n\u001b[0;32m     17\u001b[0m     \u001b[38;5;28;01mreturn\u001b[39;00m max_sum\n\u001b[0;32m     19\u001b[0m \u001b[38;5;28;01mif\u001b[39;00m \u001b[38;5;18m__name__\u001b[39m \u001b[38;5;241m==\u001b[39m \u001b[38;5;124m'\u001b[39m\u001b[38;5;124m__main__\u001b[39m\u001b[38;5;124m'\u001b[39m:\n\u001b[1;32m---> 20\u001b[0m     fptr \u001b[38;5;241m=\u001b[39m \u001b[38;5;28mopen\u001b[39m(os\u001b[38;5;241m.\u001b[39menviron[\u001b[38;5;124m'\u001b[39m\u001b[38;5;124mOUTPUT_PATH\u001b[39m\u001b[38;5;124m'\u001b[39m], \u001b[38;5;124m'\u001b[39m\u001b[38;5;124mw\u001b[39m\u001b[38;5;124m'\u001b[39m)\n\u001b[0;32m     22\u001b[0m     q \u001b[38;5;241m=\u001b[39m \u001b[38;5;28mint\u001b[39m(\u001b[38;5;28minput\u001b[39m()\u001b[38;5;241m.\u001b[39mstrip())\n\u001b[0;32m     24\u001b[0m     \u001b[38;5;28;01mfor\u001b[39;00m q_itr \u001b[38;5;129;01min\u001b[39;00m \u001b[38;5;28mrange\u001b[39m(q):\n",
      "File \u001b[1;32m<frozen os>:679\u001b[0m, in \u001b[0;36m__getitem__\u001b[1;34m(self, key)\u001b[0m\n",
      "\u001b[1;31mKeyError\u001b[0m: 'OUTPUT_PATH'"
     ]
    }
   ],
   "source": [
    "# Chat GPT\n",
    "\n",
    "def flippingMatrix(matrix):\n",
    "    n = len(matrix) // 2\n",
    "    max_sum = 0\n",
    "    for i in range(n):\n",
    "        for j in range(n):\n",
    "            # Identify the four candidates for cell (i, j)\n",
    "            candidates = [\n",
    "                matrix[i][j],\n",
    "                matrix[i][2 * n - 1 - j],\n",
    "                matrix[2 * n - 1 - i][j],\n",
    "                matrix[2 * n - 1 - i][2 * n - 1 - j]\n",
    "            ]\n",
    "            # Add the maximum of the candidates to the sum\n",
    "            max_sum += max(candidates)\n",
    "    return max_sum\n",
    "\n",
    "if __name__ == '__main__':\n",
    "    fptr = open(os.environ['OUTPUT_PATH'], 'w')\n",
    "\n",
    "    q = int(input().strip())\n",
    "\n",
    "    for q_itr in range(q):\n",
    "        n = int(input().strip())\n",
    "\n",
    "        matrix = []\n",
    "\n",
    "        for _ in range(2 * n):\n",
    "            matrix.append(list(map(int, input().rstrip().split())))\n",
    "\n",
    "        result = flippingMatrix(matrix)\n",
    "\n",
    "        fptr.write(str(result) + '\\n')\n",
    "\n",
    "    fptr.close()\n"
   ]
  },
  {
   "cell_type": "code",
   "execution_count": null,
   "id": "9c788df2",
   "metadata": {},
   "outputs": [],
   "source": []
  }
 ],
 "metadata": {
  "kernelspec": {
   "display_name": "Python 3 (ipykernel)",
   "language": "python",
   "name": "python3"
  },
  "language_info": {
   "codemirror_mode": {
    "name": "ipython",
    "version": 3
   },
   "file_extension": ".py",
   "mimetype": "text/x-python",
   "name": "python",
   "nbconvert_exporter": "python",
   "pygments_lexer": "ipython3",
   "version": "3.11.5"
  }
 },
 "nbformat": 4,
 "nbformat_minor": 5
}
