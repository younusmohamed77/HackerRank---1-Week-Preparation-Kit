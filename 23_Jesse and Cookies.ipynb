{
 "cells": [
  {
   "cell_type": "markdown",
   "id": "6e9b4aa2",
   "metadata": {},
   "source": [
    "Jesse loves cookies and wants the sweetness of some cookies to be greater than value k. To do this, two cookies with the least sweetness are repeatedly mixed. This creates a special combined cookie with:\n",
    "\n",
    "sweetness = (1 x Least sweet cookie) + (2 x 2nd least sweet cookie).\n",
    "\n",
    "This occurs until all the cookies have a sweetness >= k.\n",
    "\n",
    "Given the sweetness of a number of cookies, determine the minimum number of operations required. If it is not possible, return -1."
   ]
  },
  {
   "cell_type": "code",
   "execution_count": 1,
   "id": "52509258",
   "metadata": {},
   "outputs": [
    {
     "ename": "IndentationError",
     "evalue": "expected an indented block after function definition on line 18 (1988583906.py, line 21)",
     "output_type": "error",
     "traceback": [
      "\u001b[1;36m  Cell \u001b[1;32mIn[1], line 21\u001b[1;36m\u001b[0m\n\u001b[1;33m    if __name__ == '__main__':\u001b[0m\n\u001b[1;37m    ^\u001b[0m\n\u001b[1;31mIndentationError\u001b[0m\u001b[1;31m:\u001b[0m expected an indented block after function definition on line 18\n"
     ]
    }
   ],
   "source": [
    "#!/bin/python3\n",
    "\n",
    "import math\n",
    "import os\n",
    "import random\n",
    "import re\n",
    "import sys\n",
    "\n",
    "#\n",
    "# Complete the 'cookies' function below.\n",
    "#\n",
    "# The function is expected to return an INTEGER.\n",
    "# The function accepts following parameters:\n",
    "#  1. INTEGER k\n",
    "#  2. INTEGER_ARRAY A\n",
    "#\n",
    "\n",
    "def cookies(k, A):\n",
    "    # Write your code here\n",
    "\n",
    "if __name__ == '__main__':\n",
    "    fptr = open(os.environ['OUTPUT_PATH'], 'w')\n",
    "\n",
    "    first_multiple_input = input().rstrip().split()\n",
    "\n",
    "    n = int(first_multiple_input[0])\n",
    "\n",
    "    k = int(first_multiple_input[1])\n",
    "\n",
    "    A = list(map(int, input().rstrip().split()))\n",
    "\n",
    "    result = cookies(k, A)\n",
    "\n",
    "    fptr.write(str(result) + '\\n')\n",
    "\n",
    "    fptr.close()\n"
   ]
  },
  {
   "cell_type": "code",
   "execution_count": 2,
   "id": "671752ec",
   "metadata": {},
   "outputs": [
    {
     "name": "stdout",
     "output_type": "stream",
     "text": [
      "6 7\n",
      "1 2 3 9 10 12\n",
      "None\n"
     ]
    }
   ],
   "source": [
    "#!/bin/python3\n",
    "\n",
    "import math\n",
    "import os\n",
    "import random\n",
    "import re\n",
    "import sys\n",
    "\n",
    "#\n",
    "# Complete the 'cookies' function below.\n",
    "#\n",
    "# The function is expected to return an INTEGER.\n",
    "# The function accepts following parameters:\n",
    "#  1. INTEGER k\n",
    "#  2. INTEGER_ARRAY A\n",
    "#\n",
    "\n",
    "def cookies(k, A):\n",
    "    # Write your code here\n",
    "    pass\n",
    "\n",
    "if __name__ == '__main__':\n",
    "    first_multiple_input = input().rstrip().split()\n",
    "    n = int(first_multiple_input[0])\n",
    "    k = int(first_multiple_input[1])\n",
    "    A = list(map(int, input().rstrip().split()))\n",
    "    result = cookies(k, A)\n",
    "    print(result)"
   ]
  },
  {
   "cell_type": "code",
   "execution_count": 3,
   "id": "d1f36280",
   "metadata": {},
   "outputs": [],
   "source": [
    "counter = 0\n",
    "\n",
    "def cookies(k, A):\n",
    "    check = all(value > k for value in A)\n",
    "    \n",
    "    if check:\n",
    "         return counter\n",
    "        \n",
    "    else:\n",
    "        if len(A) > 2:\n",
    "            A.sort()\n",
    "            A.append(A[0] + (2 * A[1]))\n",
    "            del A[1]\n",
    "            del A[0]\n",
    "            counter += 1\n",
    "            cookies(k, A)\n",
    "            \n",
    "        else:\n",
    "            return -1"
   ]
  },
  {
   "cell_type": "code",
   "execution_count": 4,
   "id": "73e7ba3b",
   "metadata": {},
   "outputs": [
    {
     "ename": "UnboundLocalError",
     "evalue": "cannot access local variable 'counter' where it is not associated with a value",
     "output_type": "error",
     "traceback": [
      "\u001b[1;31m---------------------------------------------------------------------------\u001b[0m",
      "\u001b[1;31mUnboundLocalError\u001b[0m                         Traceback (most recent call last)",
      "Cell \u001b[1;32mIn[4], line 1\u001b[0m\n\u001b[1;32m----> 1\u001b[0m result \u001b[38;5;241m=\u001b[39m cookies(k, A)\n\u001b[0;32m      2\u001b[0m \u001b[38;5;28mprint\u001b[39m(result)\n",
      "Cell \u001b[1;32mIn[3], line 15\u001b[0m, in \u001b[0;36mcookies\u001b[1;34m(k, A)\u001b[0m\n\u001b[0;32m     13\u001b[0m     \u001b[38;5;28;01mdel\u001b[39;00m A[\u001b[38;5;241m1\u001b[39m]\n\u001b[0;32m     14\u001b[0m     \u001b[38;5;28;01mdel\u001b[39;00m A[\u001b[38;5;241m0\u001b[39m]\n\u001b[1;32m---> 15\u001b[0m     counter \u001b[38;5;241m+\u001b[39m\u001b[38;5;241m=\u001b[39m \u001b[38;5;241m1\u001b[39m\n\u001b[0;32m     16\u001b[0m     cookies(k, A)\n\u001b[0;32m     18\u001b[0m \u001b[38;5;28;01melse\u001b[39;00m:\n",
      "\u001b[1;31mUnboundLocalError\u001b[0m: cannot access local variable 'counter' where it is not associated with a value"
     ]
    }
   ],
   "source": [
    "result = cookies(k, A)\n",
    "print(result)"
   ]
  },
  {
   "cell_type": "code",
   "execution_count": 8,
   "id": "26c464ad",
   "metadata": {},
   "outputs": [
    {
     "name": "stdout",
     "output_type": "stream",
     "text": [
      "6 7\n",
      "1 2 3 9 10 12\n"
     ]
    },
    {
     "ename": "UnboundLocalError",
     "evalue": "cannot access local variable 'counter' where it is not associated with a value",
     "output_type": "error",
     "traceback": [
      "\u001b[1;31m---------------------------------------------------------------------------\u001b[0m",
      "\u001b[1;31mUnboundLocalError\u001b[0m                         Traceback (most recent call last)",
      "Cell \u001b[1;32mIn[8], line 9\u001b[0m\n\u001b[0;32m      7\u001b[0m     k \u001b[38;5;241m=\u001b[39m \u001b[38;5;28mint\u001b[39m(first_multiple_input[\u001b[38;5;241m1\u001b[39m])\n\u001b[0;32m      8\u001b[0m     A \u001b[38;5;241m=\u001b[39m \u001b[38;5;28mlist\u001b[39m(\u001b[38;5;28mmap\u001b[39m(\u001b[38;5;28mint\u001b[39m, \u001b[38;5;28minput\u001b[39m()\u001b[38;5;241m.\u001b[39mrstrip()\u001b[38;5;241m.\u001b[39msplit()))\n\u001b[1;32m----> 9\u001b[0m     result \u001b[38;5;241m=\u001b[39m cookies(k, A)\n\u001b[0;32m     10\u001b[0m     \u001b[38;5;28mprint\u001b[39m(result)\n\u001b[0;32m     12\u001b[0m \u001b[38;5;28;01mdef\u001b[39;00m \u001b[38;5;21mcookies\u001b[39m(k, A):\n",
      "Cell \u001b[1;32mIn[3], line 15\u001b[0m, in \u001b[0;36mcookies\u001b[1;34m(k, A)\u001b[0m\n\u001b[0;32m     13\u001b[0m     \u001b[38;5;28;01mdel\u001b[39;00m A[\u001b[38;5;241m1\u001b[39m]\n\u001b[0;32m     14\u001b[0m     \u001b[38;5;28;01mdel\u001b[39;00m A[\u001b[38;5;241m0\u001b[39m]\n\u001b[1;32m---> 15\u001b[0m     counter \u001b[38;5;241m+\u001b[39m\u001b[38;5;241m=\u001b[39m \u001b[38;5;241m1\u001b[39m\n\u001b[0;32m     16\u001b[0m     cookies(k, A)\n\u001b[0;32m     18\u001b[0m \u001b[38;5;28;01melse\u001b[39;00m:\n",
      "\u001b[1;31mUnboundLocalError\u001b[0m: cannot access local variable 'counter' where it is not associated with a value"
     ]
    }
   ],
   "source": [
    "global counter\n",
    "counter = 0\n",
    "\n",
    "if __name__ == '__main__':\n",
    "    first_multiple_input = input().rstrip().split()\n",
    "    n = int(first_multiple_input[0])\n",
    "    k = int(first_multiple_input[1])\n",
    "    A = list(map(int, input().rstrip().split()))\n",
    "    result = cookies(k, A)\n",
    "    print(result)\n",
    "\n",
    "def cookies(k, A):\n",
    "    check = all(value > k for value in A)\n",
    "    counter = counter\n",
    "    \n",
    "    if check:\n",
    "         return counter\n",
    "        \n",
    "    else:\n",
    "        if len(A) > 2:\n",
    "            A.sort()\n",
    "            A.append(A[0] + (2 * A[1]))\n",
    "            del A[1]\n",
    "            del A[0]\n",
    "            counter += 1\n",
    "            cookies(k, A)\n",
    "            \n",
    "        else:\n",
    "            return -1"
   ]
  },
  {
   "cell_type": "code",
   "execution_count": 10,
   "id": "e7e93e4f",
   "metadata": {},
   "outputs": [
    {
     "name": "stdout",
     "output_type": "stream",
     "text": [
      "6 7\n",
      "1 2 3 9 10 12\n"
     ]
    },
    {
     "ename": "TypeError",
     "evalue": "cookies() takes 2 positional arguments but 3 were given",
     "output_type": "error",
     "traceback": [
      "\u001b[1;31m---------------------------------------------------------------------------\u001b[0m",
      "\u001b[1;31mTypeError\u001b[0m                                 Traceback (most recent call last)",
      "Cell \u001b[1;32mIn[10], line 7\u001b[0m\n\u001b[0;32m      5\u001b[0m     A \u001b[38;5;241m=\u001b[39m \u001b[38;5;28mlist\u001b[39m(\u001b[38;5;28mmap\u001b[39m(\u001b[38;5;28mint\u001b[39m, \u001b[38;5;28minput\u001b[39m()\u001b[38;5;241m.\u001b[39mrstrip()\u001b[38;5;241m.\u001b[39msplit()))\n\u001b[0;32m      6\u001b[0m     counter \u001b[38;5;241m=\u001b[39m \u001b[38;5;241m0\u001b[39m\n\u001b[1;32m----> 7\u001b[0m     result \u001b[38;5;241m=\u001b[39m cookies(k, A, counter)\n\u001b[0;32m      8\u001b[0m     \u001b[38;5;28mprint\u001b[39m(result)\n\u001b[0;32m     10\u001b[0m \u001b[38;5;28;01mdef\u001b[39;00m \u001b[38;5;21mcookies\u001b[39m(k, A, counter):\n",
      "\u001b[1;31mTypeError\u001b[0m: cookies() takes 2 positional arguments but 3 were given"
     ]
    }
   ],
   "source": [
    "if __name__ == '__main__':\n",
    "    first_multiple_input = input().rstrip().split()\n",
    "    n = int(first_multiple_input[0])\n",
    "    k = int(first_multiple_input[1])\n",
    "    A = list(map(int, input().rstrip().split()))\n",
    "    counter = 0\n",
    "    result = cookies(k, A, counter)\n",
    "    print(result)\n",
    "\n",
    "def cookies(k, A, counter):\n",
    "    check = all(value > k for value in A)\n",
    "   \n",
    "    if check:\n",
    "         return counter\n",
    "        \n",
    "    else:\n",
    "        if len(A) > 2:\n",
    "            A.sort()\n",
    "            A.append(A[0] + (2 * A[1]))\n",
    "            del A[1]\n",
    "            del A[0]\n",
    "            counter += 1\n",
    "            cookies(k, A, counter)\n",
    "            \n",
    "        else:\n",
    "            return -1"
   ]
  },
  {
   "cell_type": "code",
   "execution_count": 11,
   "id": "26cf06e0",
   "metadata": {},
   "outputs": [],
   "source": [
    "def cookies(k, A, counter):\n",
    "    check = all(value > k for value in A)\n",
    "   \n",
    "    if check:\n",
    "         return counter\n",
    "        \n",
    "    else:\n",
    "        if len(A) > 2:\n",
    "            A.sort()\n",
    "            A.append(A[0] + (2 * A[1]))\n",
    "            del A[1]\n",
    "            del A[0]\n",
    "            counter += 1\n",
    "            cookies(k, A, counter)\n",
    "            \n",
    "        else:\n",
    "            return -1"
   ]
  },
  {
   "cell_type": "code",
   "execution_count": 12,
   "id": "d145932b",
   "metadata": {},
   "outputs": [
    {
     "name": "stdout",
     "output_type": "stream",
     "text": [
      "6 7 \n",
      "1 2 3 9 10 12\n",
      "None\n"
     ]
    }
   ],
   "source": [
    "if __name__ == '__main__':\n",
    "    first_multiple_input = input().rstrip().split()\n",
    "    n = int(first_multiple_input[0])\n",
    "    k = int(first_multiple_input[1])\n",
    "    A = list(map(int, input().rstrip().split()))\n",
    "    counter = 0\n",
    "    result = cookies(k, A, counter)\n",
    "    print(result)\n",
    "\n",
    "def cookies(k, A, counter):\n",
    "    check = all(value > k for value in A)\n",
    "   \n",
    "    if check:\n",
    "         return counter\n",
    "        \n",
    "    else:\n",
    "        if len(A) > 2:\n",
    "            A.sort()\n",
    "            A.append(A[0] + (2 * A[1]))\n",
    "            del A[1]\n",
    "            del A[0]\n",
    "            counter += 1\n",
    "            cookies(k, A, counter)\n",
    "            \n",
    "        else:\n",
    "            return -1"
   ]
  },
  {
   "cell_type": "code",
   "execution_count": 15,
   "id": "1069f2a1",
   "metadata": {},
   "outputs": [
    {
     "name": "stdout",
     "output_type": "stream",
     "text": [
      "6 7\n",
      "1 2 3 9 10 12\n"
     ]
    },
    {
     "ename": "TypeError",
     "evalue": "cookies() missing 1 required positional argument: 'counter'",
     "output_type": "error",
     "traceback": [
      "\u001b[1;31m---------------------------------------------------------------------------\u001b[0m",
      "\u001b[1;31mTypeError\u001b[0m                                 Traceback (most recent call last)",
      "Cell \u001b[1;32mIn[15], line 8\u001b[0m\n\u001b[0;32m      6\u001b[0m     k \u001b[38;5;241m=\u001b[39m \u001b[38;5;28mint\u001b[39m(first_multiple_input[\u001b[38;5;241m1\u001b[39m])\n\u001b[0;32m      7\u001b[0m     A \u001b[38;5;241m=\u001b[39m \u001b[38;5;28mlist\u001b[39m(\u001b[38;5;28mmap\u001b[39m(\u001b[38;5;28mint\u001b[39m, \u001b[38;5;28minput\u001b[39m()\u001b[38;5;241m.\u001b[39mrstrip()\u001b[38;5;241m.\u001b[39msplit()))\n\u001b[1;32m----> 8\u001b[0m     result \u001b[38;5;241m=\u001b[39m cookies(k, A)\n\u001b[0;32m      9\u001b[0m     \u001b[38;5;28mprint\u001b[39m(result)\n\u001b[0;32m     11\u001b[0m \u001b[38;5;28;01mdef\u001b[39;00m \u001b[38;5;21mcookies\u001b[39m(k, A):\n",
      "\u001b[1;31mTypeError\u001b[0m: cookies() missing 1 required positional argument: 'counter'"
     ]
    }
   ],
   "source": [
    "counter = 0\n",
    "\n",
    "if __name__ == '__main__':\n",
    "    first_multiple_input = input().rstrip().split()\n",
    "    n = int(first_multiple_input[0])\n",
    "    k = int(first_multiple_input[1])\n",
    "    A = list(map(int, input().rstrip().split()))\n",
    "    result = cookies(k, A)\n",
    "    print(result)\n",
    "\n",
    "def cookies(k, A):\n",
    "    check = all(value > k for value in A)\n",
    "    global  counter\n",
    "    \n",
    "    if check:\n",
    "         return counter\n",
    "        \n",
    "    else:\n",
    "        if len(A) > 1:\n",
    "            A.sort()\n",
    "            A.append(A.pop(0) + 2 * A.pop(0))\n",
    "            counter += 1\n",
    "            return cookies(k, A)\n",
    "            \n",
    "        else:\n",
    "            return -1"
   ]
  },
  {
   "cell_type": "code",
   "execution_count": 16,
   "id": "7da39671",
   "metadata": {},
   "outputs": [
    {
     "name": "stdout",
     "output_type": "stream",
     "text": [
      "6 7\n",
      "1 2 3 9 10 12\n",
      "2\n"
     ]
    }
   ],
   "source": [
    "counter = 0\n",
    "\n",
    "def cookies(k, A):\n",
    "    check = all(value > k for value in A)\n",
    "    global  counter\n",
    "    \n",
    "    if check:\n",
    "         return counter\n",
    "        \n",
    "    else:\n",
    "        if len(A) > 1:\n",
    "            A.sort()\n",
    "            A.append(A.pop(0) + 2 * A.pop(0))\n",
    "            counter += 1\n",
    "            return cookies(k, A)\n",
    "            \n",
    "        else:\n",
    "            return -1\n",
    "        \n",
    "if __name__ == '__main__':\n",
    "    first_multiple_input = input().rstrip().split()\n",
    "    n = int(first_multiple_input[0])\n",
    "    k = int(first_multiple_input[1])\n",
    "    A = list(map(int, input().rstrip().split()))\n",
    "    result = cookies(k, A)\n",
    "    print(result)"
   ]
  },
  {
   "cell_type": "code",
   "execution_count": 17,
   "id": "fd53188e",
   "metadata": {},
   "outputs": [
    {
     "name": "stdout",
     "output_type": "stream",
     "text": [
      "6 7\n",
      "1 2 3 9 10 12\n",
      "2\n"
     ]
    }
   ],
   "source": [
    "# ChatGPT\n",
    "\n",
    "import heapq\n",
    "\n",
    "def cookies(k, A):\n",
    "    # Initialize the heap from the list\n",
    "    heapq.heapify(A)\n",
    "    counter = 0\n",
    "\n",
    "    while len(A) > 1 and A[0] < k:\n",
    "        # Get the two least sweet cookies\n",
    "        least_sweet = heapq.heappop(A)\n",
    "        second_least_sweet = heapq.heappop(A)\n",
    "        \n",
    "        # Create the new combined cookie\n",
    "        new_cookie = least_sweet + 2 * second_least_sweet\n",
    "        \n",
    "        # Push the new cookie back into the heap\n",
    "        heapq.heappush(A, new_cookie)\n",
    "        \n",
    "        # Increment the operation counter\n",
    "        counter += 1\n",
    "\n",
    "    # After the loop, check if the smallest element is at least k\n",
    "    if A[0] >= k:\n",
    "        return counter\n",
    "    else:\n",
    "        return -1\n",
    "\n",
    "if __name__ == '__main__':\n",
    "    first_multiple_input = input().rstrip().split()\n",
    "    n = int(first_multiple_input[0])\n",
    "    k = int(first_multiple_input[1])\n",
    "    A = list(map(int, input().rstrip().split()))\n",
    "    result = cookies(k, A)\n",
    "    print(result)\n"
   ]
  },
  {
   "cell_type": "code",
   "execution_count": null,
   "id": "37e3490b",
   "metadata": {},
   "outputs": [],
   "source": []
  }
 ],
 "metadata": {
  "kernelspec": {
   "display_name": "Python 3 (ipykernel)",
   "language": "python",
   "name": "python3"
  },
  "language_info": {
   "codemirror_mode": {
    "name": "ipython",
    "version": 3
   },
   "file_extension": ".py",
   "mimetype": "text/x-python",
   "name": "python",
   "nbconvert_exporter": "python",
   "pygments_lexer": "ipython3",
   "version": "3.11.5"
  }
 },
 "nbformat": 4,
 "nbformat_minor": 5
}
