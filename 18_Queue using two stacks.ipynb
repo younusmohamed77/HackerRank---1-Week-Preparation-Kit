{
 "cells": [
  {
   "cell_type": "markdown",
   "id": "f452565e",
   "metadata": {},
   "source": [
    "A queue is an abstract data type that maintains the order in which elements were added to it, allowing the oldest elements to be removed from the front and new elements to be added to the rear. This is called a First-In-First-Out (FIFO) data structure because the first element added to the queue (i.e., the one that has been waiting the longest) is always the first one to be removed.\n",
    "\n",
    "A basic queue has the following operations:\n",
    "\n",
    "Enqueue: add a new element to the end of the queue.\n",
    "Dequeue: remove the element from the front of the queue and return it.\n",
    "In this challenge, you must first implement a queue using two stacks. Then process q queries, where each query is one of the following 3 types:\n",
    "\n",
    "1. x: Enqueue element x into the end of the queue.\n",
    "2. Dequeue the element at the front of the queue.\n",
    "3. Print the element at the front of the queue.\n",
    "\n",
    "https://www.hackerrank.com/challenges/one-week-preparation-kit-queue-using-two-stacks/problem?isFullScreen=true&h_l=interview&playlist_slugs%5B%5D=preparation-kits&playlist_slugs%5B%5D=one-week-preparation-kit&playlist_slugs%5B%5D=one-week-day-five"
   ]
  },
  {
   "cell_type": "code",
   "execution_count": null,
   "id": "177df56d",
   "metadata": {},
   "outputs": [],
   "source": [
    "# Chat GPT\n",
    "\n",
    "class QueueUsingTwoStacks:\n",
    "    def __init__(self):\n",
    "        self.stack_enqueue = []\n",
    "        self.stack_dequeue = []\n",
    "\n",
    "    def enqueue(self, x):\n",
    "        self.stack_enqueue.append(x)\n",
    "\n",
    "    def dequeue(self):\n",
    "        if not self.stack_dequeue:\n",
    "            while self.stack_enqueue:\n",
    "                self.stack_dequeue.append(self.stack_enqueue.pop())\n",
    "        return self.stack_dequeue.pop() if self.stack_dequeue else None\n",
    "\n",
    "    def front(self):\n",
    "        if not self.stack_dequeue:\n",
    "            while self.stack_enqueue:\n",
    "                self.stack_dequeue.append(self.stack_enqueue.pop())\n",
    "        return self.stack_dequeue[-1] if self.stack_dequeue else None\n",
    "\n",
    "if __name__ == \"__main__\":\n",
    "    q = int(input().strip())\n",
    "    queue = QueueUsingTwoStacks()\n",
    "    for _ in range(q):\n",
    "        query = input().strip().split()\n",
    "        type_of_query = int(query[0])\n",
    "        if type_of_query == 1:\n",
    "            x = int(query[1])\n",
    "            queue.enqueue(x)\n",
    "        elif type_of_query == 2:\n",
    "            queue.dequeue()\n",
    "        elif type_of_query == 3:\n",
    "            print(queue.front())\n"
   ]
  }
 ],
 "metadata": {
  "kernelspec": {
   "display_name": "Python 3 (ipykernel)",
   "language": "python",
   "name": "python3"
  },
  "language_info": {
   "codemirror_mode": {
    "name": "ipython",
    "version": 3
   },
   "file_extension": ".py",
   "mimetype": "text/x-python",
   "name": "python",
   "nbconvert_exporter": "python",
   "pygments_lexer": "ipython3",
   "version": "3.11.5"
  }
 },
 "nbformat": 4,
 "nbformat_minor": 5
}
