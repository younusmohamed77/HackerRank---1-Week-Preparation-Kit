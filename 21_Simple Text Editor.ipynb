{
 "cells": [
  {
   "cell_type": "markdown",
   "id": "4cda1a8f",
   "metadata": {},
   "source": [
    "Implement a simple text editor. The editor initially contains an empty string, S. Perform Q operations of the following 4 types:\n",
    "\n",
    "1. append(W) - Append string W to the end of S.\n",
    "2. delete(k) - Delete the last k characters of S.\n",
    "3. print(k) - Print the kth character of S.\n",
    "4. undo() - Undo the last (not previously undone) operation of type 1 or 2, reverting S to the state it was in prior to that operation."
   ]
  },
  {
   "cell_type": "code",
   "execution_count": 30,
   "id": "1f8ad5fa",
   "metadata": {},
   "outputs": [
    {
     "name": "stdout",
     "output_type": "stream",
     "text": [
      "8\n",
      "1 abc\n",
      "3 3\n",
      "2 3\n",
      "1 xy\n",
      "3 2\n",
      "4\n",
      "4\n",
      "3 1\n",
      "\n",
      "abc\n",
      "c\n",
      "abc\n",
      "\n",
      "xy\n",
      "y\n",
      "xy\n",
      "xy\n",
      "xy\n",
      "x\n"
     ]
    }
   ],
   "source": [
    "if __name__ == '__main__':\n",
    "    q = int(input().strip())\n",
    "    operations = []\n",
    "    out = ''\n",
    "    \n",
    "    for _ in range(q):\n",
    "        operations.append(input().rstrip().split())\n",
    "    \n",
    "    for operation in operations:\n",
    "        out = simple_text_editor(operation, out)"
   ]
  },
  {
   "cell_type": "code",
   "execution_count": 28,
   "id": "ad76a34e",
   "metadata": {},
   "outputs": [],
   "source": [
    "def simple_text_editor(operation, out):\n",
    "    history = out\n",
    "    print(out)\n",
    "    \n",
    "    if operation[0] == '1':\n",
    "        out += operation[1]\n",
    "        \n",
    "    elif operation[0] == '2':\n",
    "        out = out[:-int(operation[1]) - 1]\n",
    "        \n",
    "    elif operation[0] == '3':\n",
    "        print(out[int(operation[1]) - 1])\n",
    "           \n",
    "    return out"
   ]
  },
  {
   "cell_type": "code",
   "execution_count": 23,
   "id": "2c8a87d5",
   "metadata": {},
   "outputs": [
    {
     "name": "stdout",
     "output_type": "stream",
     "text": [
      "axy\n",
      "axyabc\n",
      "y\n",
      "axyabc\n",
      "axbc\n",
      "axbcxy\n",
      "x\n",
      "axbcxy\n",
      "axbcxy\n",
      "axbcxy\n",
      "a\n"
     ]
    }
   ],
   "source": [
    "for operation in operations:\n",
    "        out = simple_text_editor(operation, out)"
   ]
  },
  {
   "cell_type": "code",
   "execution_count": 46,
   "id": "e58c9e60",
   "metadata": {},
   "outputs": [
    {
     "name": "stdout",
     "output_type": "stream",
     "text": [
      "8\n",
      "1 abc\n",
      "3 3\n",
      "2 3\n",
      "1 xy\n",
      "3 2\n",
      "4\n",
      "4\n",
      "3 1\n",
      "c\n",
      "y\n",
      "a\n"
     ]
    }
   ],
   "source": [
    "if __name__ == '__main__':\n",
    "    q = int(input().strip())\n",
    "    operations = []\n",
    "    out = ''\n",
    "    out_list = []\n",
    "    \n",
    "    for _ in range(q):\n",
    "        operations.append(input().rstrip().split())\n",
    "    \n",
    "    for operation in operations:\n",
    "        #print(operation)\n",
    "        #print(out_list)\n",
    "        #print(out)\n",
    "        if operation[0] != '4':\n",
    "            out_list.append(out)\n",
    "            out = simple_text_editor(operation, out)\n",
    "            \n",
    "        elif operation[0] == '4':\n",
    "            out = out_list[-2]\n",
    "            out_list.pop()"
   ]
  },
  {
   "cell_type": "code",
   "execution_count": 40,
   "id": "0e6dfc1a",
   "metadata": {},
   "outputs": [],
   "source": [
    "def simple_text_editor(operation, out):\n",
    "    history = out\n",
    "    #print(out)\n",
    "    \n",
    "    if operation[0] == '1':\n",
    "        out += operation[1]\n",
    "        \n",
    "    elif operation[0] == '2':\n",
    "        out = out[:-int(operation[1]) - 1]\n",
    "        \n",
    "    elif operation[0] == '3':\n",
    "        print(out[int(operation[1]) - 1])\n",
    "           \n",
    "    return out"
   ]
  },
  {
   "cell_type": "code",
   "execution_count": 47,
   "id": "381da07b",
   "metadata": {},
   "outputs": [
    {
     "name": "stdout",
     "output_type": "stream",
     "text": [
      "8\n",
      "1 abc\n",
      "3 3\n",
      "2 3\n",
      "1 xy\n",
      "4\n",
      "4\n",
      "3 1\n",
      "3 2\n",
      "c\n",
      "a\n",
      "b\n"
     ]
    }
   ],
   "source": [
    "if __name__ == '__main__':\n",
    "    q = int(input().strip())\n",
    "    operations = []\n",
    "    out = ''\n",
    "    out_list = []\n",
    "    \n",
    "    for _ in range(q):\n",
    "        operations.append(input().rstrip().split())\n",
    "    \n",
    "    for operation in operations:\n",
    "        #print(operation)\n",
    "        #print(out_list)\n",
    "        #print(out)\n",
    "        if operation[0] != '4':\n",
    "            out_list.append(out)\n",
    "            out = simple_text_editor(operation, out)\n",
    "            \n",
    "        elif operation[0] == '4':\n",
    "            if len(out_list) > 1:\n",
    "                out_list.pop()\n",
    "            out = out_list[-1]"
   ]
  },
  {
   "cell_type": "code",
   "execution_count": null,
   "id": "2be6eade",
   "metadata": {},
   "outputs": [],
   "source": [
    "def simple_text_editor():\n",
    "    out = \"\"  # Initial empty string\n",
    "    history = []  # History to store states for undo operation\n",
    "\n",
    "    q = int(input().strip())  # Number of operations\n",
    "\n",
    "    for _ in range(q):\n",
    "        operation = input().strip().split()\n",
    "\n",
    "        if operation[0] == '1':\n",
    "            # Append operation\n",
    "            history.append(out)\n",
    "            out += operation[1]\n",
    "\n",
    "        elif operation[0] == '2':\n",
    "            # Delete last k characters operation\n",
    "            history.append(out)\n",
    "            k = int(operation[1])\n",
    "            out = out[:-k]\n",
    "\n",
    "        elif operation[0] == '3':\n",
    "            # Print k-th character operation\n",
    "            k = int(operation[1])\n",
    "            print(out[k - 1])\n",
    "\n",
    "        elif operation[0] == '4':\n",
    "            # Undo operation\n",
    "            if history:\n",
    "                out = history.pop()\n",
    "\n",
    "if __name__ == '__main__':\n",
    "    simple_text_editor()\n"
   ]
  },
  {
   "cell_type": "code",
   "execution_count": null,
   "id": "3aa6cdff",
   "metadata": {},
   "outputs": [],
   "source": [
    "def simple_text_editor(operation, out):\n",
    "    history = out\n",
    "    #print(out)\n",
    "    \n",
    "    if operation[0] == '1':\n",
    "        out += operation[1]\n",
    "        \n",
    "    elif operation[0] == '2':\n",
    "        out = out[:-int(operation[1]) - 1]\n",
    "        \n",
    "    elif operation[0] == '3':\n",
    "        print(out[int(operation[1]) - 1])\n",
    "           \n",
    "    return out\n",
    "\n",
    "if __name__ == '__main__':\n",
    "    q = int(input().strip())\n",
    "    operations = []\n",
    "    out = ''\n",
    "    out_list = []\n",
    "    \n",
    "    for _ in range(q):\n",
    "        operations.append(input().rstrip().split())\n",
    "    \n",
    "    for operation in operations:\n",
    "        #print(operation)\n",
    "        #print(out_list)\n",
    "        #print(out)\n",
    "        if operation[0] != '4':\n",
    "            out_list.append(out)\n",
    "            out = simple_text_editor(operation, out)\n",
    "            \n",
    "        elif operation[0] == '4':\n",
    "            if len(out_list) > 1:\n",
    "                out = out_list.pop()\n",
    "            out = out_list[-1]"
   ]
  },
  {
   "cell_type": "code",
   "execution_count": null,
   "id": "c55736fc",
   "metadata": {},
   "outputs": [],
   "source": [
    "def simple_text_editor():\n",
    "    out = \"\"  # Initial empty string\n",
    "    history = []  # History to store states for undo operation\n",
    "\n",
    "    q = int(input().strip())  # Number of operations\n",
    "\n",
    "    for _ in range(q):\n",
    "        operation = input().strip().split()\n",
    "\n",
    "        if operation[0] == '1':\n",
    "            # Append operation\n",
    "            history.append(out)\n",
    "            out += operation[1]\n",
    "\n",
    "        elif operation[0] == '2':\n",
    "            # Delete last k characters operation\n",
    "            history.append(out)\n",
    "            k = int(operation[1])\n",
    "            out = out[:-k]\n",
    "\n",
    "        elif operation[0] == '3':\n",
    "            # Print k-th character operation\n",
    "            k = int(operation[1])\n",
    "            print(out[k - 1])\n",
    "\n",
    "        elif operation[0] == '4':\n",
    "            # Undo operation\n",
    "            if history:\n",
    "                out = history.pop()\n",
    "\n",
    "if __name__ == '__main__':\n",
    "    simple_text_editor()\n"
   ]
  }
 ],
 "metadata": {
  "kernelspec": {
   "display_name": "Python 3 (ipykernel)",
   "language": "python",
   "name": "python3"
  },
  "language_info": {
   "codemirror_mode": {
    "name": "ipython",
    "version": 3
   },
   "file_extension": ".py",
   "mimetype": "text/x-python",
   "name": "python",
   "nbconvert_exporter": "python",
   "pygments_lexer": "ipython3",
   "version": "3.11.5"
  }
 },
 "nbformat": 4,
 "nbformat_minor": 5
}
