{
 "cells": [
  {
   "cell_type": "markdown",
   "id": "c2430805",
   "metadata": {},
   "source": [
    "A manufacturer of metal pistons finds that, on average, 12% of the pistons they manufacture are rejected because they are incorrectly sized. What is the probability that a batch of 10 pistons will contain:\n",
    "\n",
    "- No more than 2 rejects?\n",
    "- At least 2 rejects?"
   ]
  },
  {
   "cell_type": "code",
   "execution_count": 1,
   "id": "0f2b3628",
   "metadata": {},
   "outputs": [
    {
     "name": "stdout",
     "output_type": "stream",
     "text": [
      "0.891\n",
      "0.342\n"
     ]
    }
   ],
   "source": [
    "# Function to calculate factorial\n",
    "def factorial(n):\n",
    "    if n == 0 or n == 1:\n",
    "        return 1\n",
    "    else:\n",
    "        return n * factorial(n - 1)\n",
    "\n",
    "# Function to calculate binomial coefficient\n",
    "def binomial_coefficient(n, k):\n",
    "    return factorial(n) // (factorial(k) * factorial(n - k))\n",
    "\n",
    "# Function to calculate binomial probability\n",
    "def binomial_probability(n, k, p):\n",
    "    return binomial_coefficient(n, k) * (p ** k) * ((1 - p) ** (n - k))\n",
    "\n",
    "# Given probabilities and number of trials\n",
    "p = 0.12\n",
    "n = 10\n",
    "\n",
    "# Calculate the probability of no more than 2 rejects (P(X <= 2))\n",
    "prob_no_more_than_2_rejects = sum(binomial_probability(n, k, p) for k in range(3))\n",
    "\n",
    "# Calculate the probability of at least 2 rejects (P(X >= 2))\n",
    "# We can use the complement rule: P(X >= 2) = 1 - P(X < 2)\n",
    "prob_less_than_2_rejects = sum(binomial_probability(n, k, p) for k in range(2))\n",
    "prob_at_least_2_rejects = 1 - prob_less_than_2_rejects\n",
    "\n",
    "# Print the results rounded to 3 decimal places\n",
    "print(f\"{prob_no_more_than_2_rejects:.3f}\")\n",
    "print(f\"{prob_at_least_2_rejects:.3f}\")\n"
   ]
  },
  {
   "cell_type": "code",
   "execution_count": null,
   "id": "fc85083a",
   "metadata": {},
   "outputs": [],
   "source": []
  }
 ],
 "metadata": {
  "kernelspec": {
   "display_name": "Python 3 (ipykernel)",
   "language": "python",
   "name": "python3"
  },
  "language_info": {
   "codemirror_mode": {
    "name": "ipython",
    "version": 3
   },
   "file_extension": ".py",
   "mimetype": "text/x-python",
   "name": "python",
   "nbconvert_exporter": "python",
   "pygments_lexer": "ipython3",
   "version": "3.11.5"
  }
 },
 "nbformat": 4,
 "nbformat_minor": 5
}
