{
 "cells": [
  {
   "cell_type": "markdown",
   "id": "116e48f6",
   "metadata": {},
   "source": [
    "Given a square matrix, calculate the absolute difference between the sums of its diagonals.\n",
    "\n",
    "https://www.hackerrank.com/challenges/one-week-preparation-kit-diagonal-difference/problem?isFullScreen=true&h_l=interview&playlist_slugs%5B%5D=preparation-kits&playlist_slugs%5B%5D=one-week-preparation-kit&playlist_slugs%5B%5D=one-week-day-two"
   ]
  },
  {
   "cell_type": "code",
   "execution_count": null,
   "id": "751a8b41",
   "metadata": {},
   "outputs": [],
   "source": [
    "#!/bin/python3\n",
    "\n",
    "import math\n",
    "import os\n",
    "import random\n",
    "import re\n",
    "import sys\n",
    "\n",
    "#\n",
    "# Complete the 'diagonalDifference' function below.\n",
    "#\n",
    "# The function is expected to return an INTEGER.\n",
    "# The function accepts 2D_INTEGER_ARRAY arr as parameter.\n",
    "#\n",
    "\n",
    "def diagonalDifference(arr):\n",
    "    # Write your code here\n",
    "\n",
    "if __name__ == '__main__':\n",
    "    fptr = open(os.environ['OUTPUT_PATH'], 'w')\n",
    "\n",
    "    n = int(input().strip())\n",
    "\n",
    "    arr = []\n",
    "\n",
    "    for _ in range(n):\n",
    "        arr.append(list(map(int, input().rstrip().split())))\n",
    "\n",
    "    result = diagonalDifference(arr)\n",
    "\n",
    "    fptr.write(str(result) + '\\n')\n",
    "\n",
    "    fptr.close()\n"
   ]
  },
  {
   "cell_type": "code",
   "execution_count": 7,
   "id": "5792c3ef",
   "metadata": {},
   "outputs": [
    {
     "name": "stdout",
     "output_type": "stream",
     "text": [
      "3\n",
      "1 2 3\n",
      "4 5 6\n",
      "7 8 9 \n",
      "[[1, 2, 3], [4, 5, 6], [7, 8, 9]]\n",
      "[1, 5, 9]\n",
      "[9]\n"
     ]
    }
   ],
   "source": [
    "if __name__ == '__main__':\n",
    "    n = int(input().strip())\n",
    "    arr = []\n",
    "\n",
    "    for _ in range(n):\n",
    "        arr.append(list(map(int, input().rstrip().split())))\n",
    "\n",
    "    print(arr)\n",
    "    result = diagonalDifference(arr)"
   ]
  },
  {
   "cell_type": "code",
   "execution_count": 8,
   "id": "81de0d73",
   "metadata": {},
   "outputs": [],
   "source": [
    "def diagonalDifference(arr):\n",
    "    main_diagonal = []\n",
    "    opp_diagonal = []\n",
    "    \n",
    "    for i in range(len(arr)):\n",
    "        for j in range(len(arr[i])):\n",
    "            if i == j:\n",
    "                main_diagonal.append(arr[i][j])\n",
    "                \n",
    "            if (i+j) - len(arr[i]) - 1 == 0:\n",
    "                opp_diagonal.append(arr[i][j])\n",
    "                \n",
    "    print(main_diagonal)\n",
    "    print(opp_diagonal)\n",
    "    return sum(main_diagonal) - sum(opp_diagonal)"
   ]
  },
  {
   "cell_type": "code",
   "execution_count": 9,
   "id": "60b83214",
   "metadata": {},
   "outputs": [
    {
     "name": "stdout",
     "output_type": "stream",
     "text": [
      "6\n"
     ]
    }
   ],
   "source": [
    "print(result)"
   ]
  },
  {
   "cell_type": "code",
   "execution_count": 10,
   "id": "9ae9c27d",
   "metadata": {},
   "outputs": [
    {
     "name": "stdout",
     "output_type": "stream",
     "text": [
      "[1, 5, 9]\n",
      "[9]\n"
     ]
    },
    {
     "data": {
      "text/plain": [
       "6"
      ]
     },
     "execution_count": 10,
     "metadata": {},
     "output_type": "execute_result"
    }
   ],
   "source": [
    "diagonalDifference(arr)"
   ]
  },
  {
   "cell_type": "code",
   "execution_count": 11,
   "id": "5fb86d65",
   "metadata": {},
   "outputs": [
    {
     "name": "stdout",
     "output_type": "stream",
     "text": [
      "0 0\n",
      "0 1\n",
      "0 2\n",
      "1 0\n",
      "1 1\n",
      "1 2\n",
      "2 0\n",
      "2 1\n",
      "2 2\n"
     ]
    },
    {
     "ename": "SyntaxError",
     "evalue": "'return' outside function (2185193940.py, line 13)",
     "output_type": "error",
     "traceback": [
      "\u001b[1;36m  Cell \u001b[1;32mIn[11], line 13\u001b[1;36m\u001b[0m\n\u001b[1;33m    return sum(main_diagonal) - sum(opp_diagonal)\u001b[0m\n\u001b[1;37m    ^\u001b[0m\n\u001b[1;31mSyntaxError\u001b[0m\u001b[1;31m:\u001b[0m 'return' outside function\n"
     ]
    }
   ],
   "source": [
    "main_diagonal = []\n",
    "opp_diagonal = []\n",
    "    \n",
    "for i in range(len(arr)):\n",
    "    for j in range(len(arr[i])):\n",
    "        print(i,j)\n",
    "        if i == j:\n",
    "            main_diagonal.append(arr[i][j])\n",
    "                \n",
    "        if (i+j) - (len(arr[i])-1) == 0:\n",
    "            opp_diagonal.append(arr[i][j])\n",
    "\n",
    "return sum(main_diagonal) - sum(opp_diagonal)"
   ]
  },
  {
   "cell_type": "code",
   "execution_count": 12,
   "id": "39676a7b",
   "metadata": {},
   "outputs": [
    {
     "name": "stdout",
     "output_type": "stream",
     "text": [
      "3\n",
      "11 2 4\n",
      "4 5 6\n",
      "10 8 -12\n",
      "0 0\n",
      "0 1\n",
      "0 2\n",
      "1 0\n",
      "1 1\n",
      "1 2\n",
      "2 0\n",
      "2 1\n",
      "2 2\n",
      "-15\n"
     ]
    }
   ],
   "source": [
    "n = int(input().strip())\n",
    "arr = []\n",
    "\n",
    "for _ in range(n):\n",
    "    arr.append(list(map(int, input().rstrip().split())))\n",
    "\n",
    "main_diagonal = []\n",
    "opp_diagonal = []\n",
    "    \n",
    "for i in range(len(arr)):\n",
    "    for j in range(len(arr[i])):\n",
    "        print(i,j)\n",
    "        if i == j:\n",
    "            main_diagonal.append(arr[i][j])\n",
    "                \n",
    "        if (i+j) - (len(arr[i])-1) == 0:\n",
    "            opp_diagonal.append(arr[i][j])\n",
    "\n",
    "print(sum(main_diagonal) - sum(opp_diagonal))"
   ]
  },
  {
   "cell_type": "code",
   "execution_count": 13,
   "id": "7e4f2d40",
   "metadata": {},
   "outputs": [
    {
     "name": "stdout",
     "output_type": "stream",
     "text": [
      "3\n",
      "11 2 4\n",
      "4 5 6\n",
      "10 8 -12\n",
      "-15\n",
      "15\n"
     ]
    }
   ],
   "source": [
    "n = int(input().strip())\n",
    "arr = []\n",
    "\n",
    "for _ in range(n):\n",
    "    arr.append(list(map(int, input().rstrip().split())))\n",
    "\n",
    "main_diagonal = []\n",
    "opp_diagonal = []\n",
    "    \n",
    "for i in range(len(arr)):\n",
    "    for j in range(len(arr[i])):\n",
    "\n",
    "        if i == j:\n",
    "            main_diagonal.append(arr[i][j])\n",
    "                \n",
    "        if (i+j) - (len(arr[i])-1) == 0:\n",
    "            opp_diagonal.append(arr[i][j])\n",
    "\n",
    "print(sum(main_diagonal) - sum(opp_diagonal))\n",
    "print(abs(sum(main_diagonal) - sum(opp_diagonal)))"
   ]
  },
  {
   "cell_type": "code",
   "execution_count": null,
   "id": "92d85a0f",
   "metadata": {},
   "outputs": [],
   "source": [
    "def diagonalDifference(arr):\n",
    "    # Write your code here\n",
    "    main_diagonal = []\n",
    "    opp_diagonal = []\n",
    "    \n",
    "    for i in range(len(arr)):\n",
    "        for j in range(len(arr[i])):\n",
    "\n",
    "            if i == j:\n",
    "                main_diagonal.append(arr[i][j])\n",
    "                \n",
    "            if (i+j) - (len(arr[i])-1) == 0:\n",
    "                opp_diagonal.append(arr[i][j])\n",
    "\n",
    "    # print(sum(main_diagonal) - sum(opp_diagonal))\n",
    "    # print(abs(sum(main_diagonal) - sum(opp_diagonal)))\n",
    "    return abs(sum(main_diagonal) - sum(opp_diagonal))"
   ]
  }
 ],
 "metadata": {
  "kernelspec": {
   "display_name": "Python 3 (ipykernel)",
   "language": "python",
   "name": "python3"
  },
  "language_info": {
   "codemirror_mode": {
    "name": "ipython",
    "version": 3
   },
   "file_extension": ".py",
   "mimetype": "text/x-python",
   "name": "python",
   "nbconvert_exporter": "python",
   "pygments_lexer": "ipython3",
   "version": "3.11.5"
  }
 },
 "nbformat": 4,
 "nbformat_minor": 5
}
