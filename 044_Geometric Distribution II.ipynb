{
 "cells": [
  {
   "cell_type": "markdown",
   "id": "20cdaa7e",
   "metadata": {},
   "source": [
    "The probability that a machine produces a defective product is 1/3. What is the probability that the 1st defect is found during the first 5 inspections?"
   ]
  },
  {
   "cell_type": "code",
   "execution_count": 1,
   "id": "16b57ca2",
   "metadata": {},
   "outputs": [
    {
     "name": "stdout",
     "output_type": "stream",
     "text": [
      "0.868\n"
     ]
    }
   ],
   "source": [
    "# Given probability\n",
    "p = 1 / 3\n",
    "\n",
    "# Function to calculate the probability that the 1st defect occurs on the k-th item\n",
    "def geometric_probability(k, p):\n",
    "    return ((1 - p) ** (k - 1)) * p\n",
    "\n",
    "# Calculate the cumulative probability for the first 5 inspections\n",
    "prob_first_defect_within_5 = sum(geometric_probability(k, p) for k in range(1, 6))\n",
    "\n",
    "# Print the result rounded to 3 decimal places\n",
    "print(f\"{prob_first_defect_within_5:.3f}\")\n"
   ]
  },
  {
   "cell_type": "code",
   "execution_count": null,
   "id": "33eb36be",
   "metadata": {},
   "outputs": [],
   "source": []
  }
 ],
 "metadata": {
  "kernelspec": {
   "display_name": "Python 3 (ipykernel)",
   "language": "python",
   "name": "python3"
  },
  "language_info": {
   "codemirror_mode": {
    "name": "ipython",
    "version": 3
   },
   "file_extension": ".py",
   "mimetype": "text/x-python",
   "name": "python",
   "nbconvert_exporter": "python",
   "pygments_lexer": "ipython3",
   "version": "3.11.5"
  }
 },
 "nbformat": 4,
 "nbformat_minor": 5
}
